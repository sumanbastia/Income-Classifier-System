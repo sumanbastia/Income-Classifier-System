{
 "cells": [
  {
   "cell_type": "markdown",
   "id": "0c273a24",
   "metadata": {},
   "source": [
    "# Importing Required Packages"
   ]
  },
  {
   "cell_type": "code",
   "execution_count": 2,
   "id": "cdfd4768",
   "metadata": {},
   "outputs": [],
   "source": [
    "# To work with dataframes\n",
    "import pandas as pd\n",
    "\n",
    "# To perform numerical operations\n",
    "import numpy as np\n",
    "\n",
    "# To visualize data \n",
    "import seaborn as sns\n",
    "\n",
    "# To partition the data\n",
    "from sklearn.model_selection import train_test_split\n",
    "\n",
    "# Importing library for logistic regression\n",
    "from sklearn.linear_model import LogisticRegression\n",
    "\n",
    "# Importing performance metrics - accuracy score, confusion matrix and classification report\n",
    "from sklearn.metrics import accuracy_score,confusion_matrix,classification_report\n",
    "\n",
    "# import library for plotting\n",
    "import matplotlib.pyplot as plt"
   ]
  },
  {
   "cell_type": "markdown",
   "id": "e87e5d54",
   "metadata": {},
   "source": [
    "# Data Importing and Pre-processing"
   ]
  },
  {
   "cell_type": "code",
   "execution_count": 3,
   "id": "0e7f2005",
   "metadata": {},
   "outputs": [
    {
     "data": {
      "text/html": [
       "<div>\n",
       "<style scoped>\n",
       "    .dataframe tbody tr th:only-of-type {\n",
       "        vertical-align: middle;\n",
       "    }\n",
       "\n",
       "    .dataframe tbody tr th {\n",
       "        vertical-align: top;\n",
       "    }\n",
       "\n",
       "    .dataframe thead th {\n",
       "        text-align: right;\n",
       "    }\n",
       "</style>\n",
       "<table border=\"1\" class=\"dataframe\">\n",
       "  <thead>\n",
       "    <tr style=\"text-align: right;\">\n",
       "      <th></th>\n",
       "      <th>age</th>\n",
       "      <th>JobType</th>\n",
       "      <th>EdType</th>\n",
       "      <th>maritalstatus</th>\n",
       "      <th>occupation</th>\n",
       "      <th>relationship</th>\n",
       "      <th>race</th>\n",
       "      <th>gender</th>\n",
       "      <th>capitalgain</th>\n",
       "      <th>capitalloss</th>\n",
       "      <th>hoursperweek</th>\n",
       "      <th>nativecountry</th>\n",
       "      <th>SalStat</th>\n",
       "    </tr>\n",
       "  </thead>\n",
       "  <tbody>\n",
       "    <tr>\n",
       "      <th>0</th>\n",
       "      <td>45</td>\n",
       "      <td>Private</td>\n",
       "      <td>HS-grad</td>\n",
       "      <td>Divorced</td>\n",
       "      <td>Adm-clerical</td>\n",
       "      <td>Not-in-family</td>\n",
       "      <td>White</td>\n",
       "      <td>Female</td>\n",
       "      <td>0</td>\n",
       "      <td>0</td>\n",
       "      <td>28</td>\n",
       "      <td>United-States</td>\n",
       "      <td>less than or equal to 50,000</td>\n",
       "    </tr>\n",
       "    <tr>\n",
       "      <th>1</th>\n",
       "      <td>24</td>\n",
       "      <td>Federal-gov</td>\n",
       "      <td>HS-grad</td>\n",
       "      <td>Never-married</td>\n",
       "      <td>Armed-Forces</td>\n",
       "      <td>Own-child</td>\n",
       "      <td>White</td>\n",
       "      <td>Male</td>\n",
       "      <td>0</td>\n",
       "      <td>0</td>\n",
       "      <td>40</td>\n",
       "      <td>United-States</td>\n",
       "      <td>less than or equal to 50,000</td>\n",
       "    </tr>\n",
       "    <tr>\n",
       "      <th>2</th>\n",
       "      <td>44</td>\n",
       "      <td>Private</td>\n",
       "      <td>Some-college</td>\n",
       "      <td>Married-civ-spouse</td>\n",
       "      <td>Prof-specialty</td>\n",
       "      <td>Husband</td>\n",
       "      <td>White</td>\n",
       "      <td>Male</td>\n",
       "      <td>0</td>\n",
       "      <td>0</td>\n",
       "      <td>40</td>\n",
       "      <td>United-States</td>\n",
       "      <td>greater than 50,000</td>\n",
       "    </tr>\n",
       "    <tr>\n",
       "      <th>3</th>\n",
       "      <td>27</td>\n",
       "      <td>Private</td>\n",
       "      <td>9th</td>\n",
       "      <td>Never-married</td>\n",
       "      <td>Craft-repair</td>\n",
       "      <td>Other-relative</td>\n",
       "      <td>White</td>\n",
       "      <td>Male</td>\n",
       "      <td>0</td>\n",
       "      <td>0</td>\n",
       "      <td>40</td>\n",
       "      <td>Mexico</td>\n",
       "      <td>less than or equal to 50,000</td>\n",
       "    </tr>\n",
       "    <tr>\n",
       "      <th>4</th>\n",
       "      <td>20</td>\n",
       "      <td>Private</td>\n",
       "      <td>Some-college</td>\n",
       "      <td>Never-married</td>\n",
       "      <td>Sales</td>\n",
       "      <td>Not-in-family</td>\n",
       "      <td>White</td>\n",
       "      <td>Male</td>\n",
       "      <td>0</td>\n",
       "      <td>0</td>\n",
       "      <td>35</td>\n",
       "      <td>United-States</td>\n",
       "      <td>less than or equal to 50,000</td>\n",
       "    </tr>\n",
       "    <tr>\n",
       "      <th>...</th>\n",
       "      <td>...</td>\n",
       "      <td>...</td>\n",
       "      <td>...</td>\n",
       "      <td>...</td>\n",
       "      <td>...</td>\n",
       "      <td>...</td>\n",
       "      <td>...</td>\n",
       "      <td>...</td>\n",
       "      <td>...</td>\n",
       "      <td>...</td>\n",
       "      <td>...</td>\n",
       "      <td>...</td>\n",
       "      <td>...</td>\n",
       "    </tr>\n",
       "    <tr>\n",
       "      <th>31973</th>\n",
       "      <td>34</td>\n",
       "      <td>Local-gov</td>\n",
       "      <td>HS-grad</td>\n",
       "      <td>Never-married</td>\n",
       "      <td>Farming-fishing</td>\n",
       "      <td>Not-in-family</td>\n",
       "      <td>Black</td>\n",
       "      <td>Male</td>\n",
       "      <td>594</td>\n",
       "      <td>0</td>\n",
       "      <td>60</td>\n",
       "      <td>United-States</td>\n",
       "      <td>less than or equal to 50,000</td>\n",
       "    </tr>\n",
       "    <tr>\n",
       "      <th>31974</th>\n",
       "      <td>34</td>\n",
       "      <td>Local-gov</td>\n",
       "      <td>Some-college</td>\n",
       "      <td>Never-married</td>\n",
       "      <td>Protective-serv</td>\n",
       "      <td>Not-in-family</td>\n",
       "      <td>White</td>\n",
       "      <td>Female</td>\n",
       "      <td>0</td>\n",
       "      <td>0</td>\n",
       "      <td>40</td>\n",
       "      <td>United-States</td>\n",
       "      <td>less than or equal to 50,000</td>\n",
       "    </tr>\n",
       "    <tr>\n",
       "      <th>31975</th>\n",
       "      <td>23</td>\n",
       "      <td>Private</td>\n",
       "      <td>Some-college</td>\n",
       "      <td>Married-civ-spouse</td>\n",
       "      <td>Adm-clerical</td>\n",
       "      <td>Husband</td>\n",
       "      <td>White</td>\n",
       "      <td>Male</td>\n",
       "      <td>0</td>\n",
       "      <td>0</td>\n",
       "      <td>40</td>\n",
       "      <td>United-States</td>\n",
       "      <td>less than or equal to 50,000</td>\n",
       "    </tr>\n",
       "    <tr>\n",
       "      <th>31976</th>\n",
       "      <td>42</td>\n",
       "      <td>Local-gov</td>\n",
       "      <td>Some-college</td>\n",
       "      <td>Married-civ-spouse</td>\n",
       "      <td>Adm-clerical</td>\n",
       "      <td>Wife</td>\n",
       "      <td>White</td>\n",
       "      <td>Female</td>\n",
       "      <td>0</td>\n",
       "      <td>0</td>\n",
       "      <td>40</td>\n",
       "      <td>United-States</td>\n",
       "      <td>less than or equal to 50,000</td>\n",
       "    </tr>\n",
       "    <tr>\n",
       "      <th>31977</th>\n",
       "      <td>29</td>\n",
       "      <td>Private</td>\n",
       "      <td>Bachelors</td>\n",
       "      <td>Never-married</td>\n",
       "      <td>Prof-specialty</td>\n",
       "      <td>Not-in-family</td>\n",
       "      <td>White</td>\n",
       "      <td>Male</td>\n",
       "      <td>0</td>\n",
       "      <td>0</td>\n",
       "      <td>40</td>\n",
       "      <td>United-States</td>\n",
       "      <td>less than or equal to 50,000</td>\n",
       "    </tr>\n",
       "  </tbody>\n",
       "</table>\n",
       "<p>31978 rows × 13 columns</p>\n",
       "</div>"
      ],
      "text/plain": [
       "       age       JobType         EdType        maritalstatus  \\\n",
       "0       45       Private        HS-grad             Divorced   \n",
       "1       24   Federal-gov        HS-grad        Never-married   \n",
       "2       44       Private   Some-college   Married-civ-spouse   \n",
       "3       27       Private            9th        Never-married   \n",
       "4       20       Private   Some-college        Never-married   \n",
       "...    ...           ...            ...                  ...   \n",
       "31973   34     Local-gov        HS-grad        Never-married   \n",
       "31974   34     Local-gov   Some-college        Never-married   \n",
       "31975   23       Private   Some-college   Married-civ-spouse   \n",
       "31976   42     Local-gov   Some-college   Married-civ-spouse   \n",
       "31977   29       Private      Bachelors        Never-married   \n",
       "\n",
       "             occupation     relationship    race   gender  capitalgain  \\\n",
       "0          Adm-clerical    Not-in-family   White   Female            0   \n",
       "1          Armed-Forces        Own-child   White     Male            0   \n",
       "2        Prof-specialty          Husband   White     Male            0   \n",
       "3          Craft-repair   Other-relative   White     Male            0   \n",
       "4                 Sales    Not-in-family   White     Male            0   \n",
       "...                 ...              ...     ...      ...          ...   \n",
       "31973   Farming-fishing    Not-in-family   Black     Male          594   \n",
       "31974   Protective-serv    Not-in-family   White   Female            0   \n",
       "31975      Adm-clerical          Husband   White     Male            0   \n",
       "31976      Adm-clerical             Wife   White   Female            0   \n",
       "31977    Prof-specialty    Not-in-family   White     Male            0   \n",
       "\n",
       "       capitalloss  hoursperweek   nativecountry  \\\n",
       "0                0            28   United-States   \n",
       "1                0            40   United-States   \n",
       "2                0            40   United-States   \n",
       "3                0            40          Mexico   \n",
       "4                0            35   United-States   \n",
       "...            ...           ...             ...   \n",
       "31973            0            60   United-States   \n",
       "31974            0            40   United-States   \n",
       "31975            0            40   United-States   \n",
       "31976            0            40   United-States   \n",
       "31977            0            40   United-States   \n",
       "\n",
       "                             SalStat  \n",
       "0       less than or equal to 50,000  \n",
       "1       less than or equal to 50,000  \n",
       "2                greater than 50,000  \n",
       "3       less than or equal to 50,000  \n",
       "4       less than or equal to 50,000  \n",
       "...                              ...  \n",
       "31973   less than or equal to 50,000  \n",
       "31974   less than or equal to 50,000  \n",
       "31975   less than or equal to 50,000  \n",
       "31976   less than or equal to 50,000  \n",
       "31977   less than or equal to 50,000  \n",
       "\n",
       "[31978 rows x 13 columns]"
      ]
     },
     "execution_count": 3,
     "metadata": {},
     "output_type": "execute_result"
    }
   ],
   "source": [
    "# Importing data\n",
    "data_income = pd.read_csv(r\"C:\\Users\\user\\Documents\\projects\\MSc projects (CURAJ)\\classification problem for subsidy\\income.csv\")\n",
    "data_income"
   ]
  },
  {
   "cell_type": "code",
   "execution_count": 4,
   "id": "1c19f384",
   "metadata": {},
   "outputs": [
    {
     "data": {
      "text/plain": [
       "(31978, 13)"
      ]
     },
     "execution_count": 4,
     "metadata": {},
     "output_type": "execute_result"
    }
   ],
   "source": [
    "data_income.shape"
   ]
  },
  {
   "cell_type": "code",
   "execution_count": 5,
   "id": "c63d0685",
   "metadata": {},
   "outputs": [
    {
     "data": {
      "text/html": [
       "<div>\n",
       "<style scoped>\n",
       "    .dataframe tbody tr th:only-of-type {\n",
       "        vertical-align: middle;\n",
       "    }\n",
       "\n",
       "    .dataframe tbody tr th {\n",
       "        vertical-align: top;\n",
       "    }\n",
       "\n",
       "    .dataframe thead th {\n",
       "        text-align: right;\n",
       "    }\n",
       "</style>\n",
       "<table border=\"1\" class=\"dataframe\">\n",
       "  <thead>\n",
       "    <tr style=\"text-align: right;\">\n",
       "      <th></th>\n",
       "      <th>age</th>\n",
       "      <th>capitalgain</th>\n",
       "      <th>capitalloss</th>\n",
       "      <th>hoursperweek</th>\n",
       "    </tr>\n",
       "  </thead>\n",
       "  <tbody>\n",
       "    <tr>\n",
       "      <th>count</th>\n",
       "      <td>31978.000000</td>\n",
       "      <td>31978.000000</td>\n",
       "      <td>31978.000000</td>\n",
       "      <td>31978.000000</td>\n",
       "    </tr>\n",
       "    <tr>\n",
       "      <th>mean</th>\n",
       "      <td>38.579023</td>\n",
       "      <td>1064.360623</td>\n",
       "      <td>86.739352</td>\n",
       "      <td>40.417850</td>\n",
       "    </tr>\n",
       "    <tr>\n",
       "      <th>std</th>\n",
       "      <td>13.662085</td>\n",
       "      <td>7298.596271</td>\n",
       "      <td>401.594301</td>\n",
       "      <td>12.345285</td>\n",
       "    </tr>\n",
       "    <tr>\n",
       "      <th>min</th>\n",
       "      <td>17.000000</td>\n",
       "      <td>0.000000</td>\n",
       "      <td>0.000000</td>\n",
       "      <td>1.000000</td>\n",
       "    </tr>\n",
       "    <tr>\n",
       "      <th>25%</th>\n",
       "      <td>28.000000</td>\n",
       "      <td>0.000000</td>\n",
       "      <td>0.000000</td>\n",
       "      <td>40.000000</td>\n",
       "    </tr>\n",
       "    <tr>\n",
       "      <th>50%</th>\n",
       "      <td>37.000000</td>\n",
       "      <td>0.000000</td>\n",
       "      <td>0.000000</td>\n",
       "      <td>40.000000</td>\n",
       "    </tr>\n",
       "    <tr>\n",
       "      <th>75%</th>\n",
       "      <td>48.000000</td>\n",
       "      <td>0.000000</td>\n",
       "      <td>0.000000</td>\n",
       "      <td>45.000000</td>\n",
       "    </tr>\n",
       "    <tr>\n",
       "      <th>max</th>\n",
       "      <td>90.000000</td>\n",
       "      <td>99999.000000</td>\n",
       "      <td>4356.000000</td>\n",
       "      <td>99.000000</td>\n",
       "    </tr>\n",
       "  </tbody>\n",
       "</table>\n",
       "</div>"
      ],
      "text/plain": [
       "                age   capitalgain   capitalloss  hoursperweek\n",
       "count  31978.000000  31978.000000  31978.000000  31978.000000\n",
       "mean      38.579023   1064.360623     86.739352     40.417850\n",
       "std       13.662085   7298.596271    401.594301     12.345285\n",
       "min       17.000000      0.000000      0.000000      1.000000\n",
       "25%       28.000000      0.000000      0.000000     40.000000\n",
       "50%       37.000000      0.000000      0.000000     40.000000\n",
       "75%       48.000000      0.000000      0.000000     45.000000\n",
       "max       90.000000  99999.000000   4356.000000     99.000000"
      ]
     },
     "execution_count": 5,
     "metadata": {},
     "output_type": "execute_result"
    }
   ],
   "source": [
    "data_income.describe()"
   ]
  },
  {
   "cell_type": "code",
   "execution_count": 6,
   "id": "18323dc6",
   "metadata": {},
   "outputs": [
    {
     "data": {
      "text/html": [
       "<div>\n",
       "<style scoped>\n",
       "    .dataframe tbody tr th:only-of-type {\n",
       "        vertical-align: middle;\n",
       "    }\n",
       "\n",
       "    .dataframe tbody tr th {\n",
       "        vertical-align: top;\n",
       "    }\n",
       "\n",
       "    .dataframe thead th {\n",
       "        text-align: right;\n",
       "    }\n",
       "</style>\n",
       "<table border=\"1\" class=\"dataframe\">\n",
       "  <thead>\n",
       "    <tr style=\"text-align: right;\">\n",
       "      <th></th>\n",
       "      <th>JobType</th>\n",
       "      <th>EdType</th>\n",
       "      <th>maritalstatus</th>\n",
       "      <th>occupation</th>\n",
       "      <th>relationship</th>\n",
       "      <th>race</th>\n",
       "      <th>gender</th>\n",
       "      <th>nativecountry</th>\n",
       "      <th>SalStat</th>\n",
       "    </tr>\n",
       "  </thead>\n",
       "  <tbody>\n",
       "    <tr>\n",
       "      <th>count</th>\n",
       "      <td>31978</td>\n",
       "      <td>31978</td>\n",
       "      <td>31978</td>\n",
       "      <td>31978</td>\n",
       "      <td>31978</td>\n",
       "      <td>31978</td>\n",
       "      <td>31978</td>\n",
       "      <td>31978</td>\n",
       "      <td>31978</td>\n",
       "    </tr>\n",
       "    <tr>\n",
       "      <th>unique</th>\n",
       "      <td>9</td>\n",
       "      <td>16</td>\n",
       "      <td>7</td>\n",
       "      <td>15</td>\n",
       "      <td>6</td>\n",
       "      <td>5</td>\n",
       "      <td>2</td>\n",
       "      <td>41</td>\n",
       "      <td>2</td>\n",
       "    </tr>\n",
       "    <tr>\n",
       "      <th>top</th>\n",
       "      <td>Private</td>\n",
       "      <td>HS-grad</td>\n",
       "      <td>Married-civ-spouse</td>\n",
       "      <td>Prof-specialty</td>\n",
       "      <td>Husband</td>\n",
       "      <td>White</td>\n",
       "      <td>Male</td>\n",
       "      <td>United-States</td>\n",
       "      <td>less than or equal to 50,000</td>\n",
       "    </tr>\n",
       "    <tr>\n",
       "      <th>freq</th>\n",
       "      <td>22286</td>\n",
       "      <td>10368</td>\n",
       "      <td>14692</td>\n",
       "      <td>4038</td>\n",
       "      <td>12947</td>\n",
       "      <td>27430</td>\n",
       "      <td>21370</td>\n",
       "      <td>29170</td>\n",
       "      <td>24283</td>\n",
       "    </tr>\n",
       "  </tbody>\n",
       "</table>\n",
       "</div>"
      ],
      "text/plain": [
       "         JobType    EdType        maritalstatus       occupation relationship  \\\n",
       "count      31978     31978                31978            31978        31978   \n",
       "unique         9        16                    7               15            6   \n",
       "top      Private   HS-grad   Married-civ-spouse   Prof-specialty      Husband   \n",
       "freq       22286     10368                14692             4038        12947   \n",
       "\n",
       "          race gender   nativecountry                        SalStat  \n",
       "count    31978  31978           31978                          31978  \n",
       "unique       5      2              41                              2  \n",
       "top      White   Male   United-States   less than or equal to 50,000  \n",
       "freq     27430  21370           29170                          24283  "
      ]
     },
     "execution_count": 6,
     "metadata": {},
     "output_type": "execute_result"
    }
   ],
   "source": [
    "data_income.describe(include=object)"
   ]
  },
  {
   "cell_type": "code",
   "execution_count": 7,
   "id": "c1973965",
   "metadata": {},
   "outputs": [],
   "source": [
    "# Creating a copy of original data\n",
    "data = data_income.copy()"
   ]
  },
  {
   "cell_type": "code",
   "execution_count": 8,
   "id": "d94b867d",
   "metadata": {},
   "outputs": [
    {
     "name": "stdout",
     "output_type": "stream",
     "text": [
      "<class 'pandas.core.frame.DataFrame'>\n",
      "RangeIndex: 31978 entries, 0 to 31977\n",
      "Data columns (total 13 columns):\n",
      " #   Column         Non-Null Count  Dtype \n",
      "---  ------         --------------  ----- \n",
      " 0   age            31978 non-null  int64 \n",
      " 1   JobType        31978 non-null  object\n",
      " 2   EdType         31978 non-null  object\n",
      " 3   maritalstatus  31978 non-null  object\n",
      " 4   occupation     31978 non-null  object\n",
      " 5   relationship   31978 non-null  object\n",
      " 6   race           31978 non-null  object\n",
      " 7   gender         31978 non-null  object\n",
      " 8   capitalgain    31978 non-null  int64 \n",
      " 9   capitalloss    31978 non-null  int64 \n",
      " 10  hoursperweek   31978 non-null  int64 \n",
      " 11  nativecountry  31978 non-null  object\n",
      " 12  SalStat        31978 non-null  object\n",
      "dtypes: int64(4), object(9)\n",
      "memory usage: 3.2+ MB\n",
      "None\n"
     ]
    }
   ],
   "source": [
    "# To check variables data type\n",
    "print(data.info())"
   ]
  },
  {
   "cell_type": "code",
   "execution_count": 9,
   "id": "cf9748a5",
   "metadata": {},
   "outputs": [
    {
     "data": {
      "text/html": [
       "<div>\n",
       "<style scoped>\n",
       "    .dataframe tbody tr th:only-of-type {\n",
       "        vertical-align: middle;\n",
       "    }\n",
       "\n",
       "    .dataframe tbody tr th {\n",
       "        vertical-align: top;\n",
       "    }\n",
       "\n",
       "    .dataframe thead th {\n",
       "        text-align: right;\n",
       "    }\n",
       "</style>\n",
       "<table border=\"1\" class=\"dataframe\">\n",
       "  <thead>\n",
       "    <tr style=\"text-align: right;\">\n",
       "      <th></th>\n",
       "      <th>age</th>\n",
       "      <th>JobType</th>\n",
       "      <th>EdType</th>\n",
       "      <th>maritalstatus</th>\n",
       "      <th>occupation</th>\n",
       "      <th>relationship</th>\n",
       "      <th>race</th>\n",
       "      <th>gender</th>\n",
       "      <th>capitalgain</th>\n",
       "      <th>capitalloss</th>\n",
       "      <th>hoursperweek</th>\n",
       "      <th>nativecountry</th>\n",
       "      <th>SalStat</th>\n",
       "    </tr>\n",
       "  </thead>\n",
       "  <tbody>\n",
       "    <tr>\n",
       "      <th>0</th>\n",
       "      <td>False</td>\n",
       "      <td>False</td>\n",
       "      <td>False</td>\n",
       "      <td>False</td>\n",
       "      <td>False</td>\n",
       "      <td>False</td>\n",
       "      <td>False</td>\n",
       "      <td>False</td>\n",
       "      <td>False</td>\n",
       "      <td>False</td>\n",
       "      <td>False</td>\n",
       "      <td>False</td>\n",
       "      <td>False</td>\n",
       "    </tr>\n",
       "    <tr>\n",
       "      <th>1</th>\n",
       "      <td>False</td>\n",
       "      <td>False</td>\n",
       "      <td>False</td>\n",
       "      <td>False</td>\n",
       "      <td>False</td>\n",
       "      <td>False</td>\n",
       "      <td>False</td>\n",
       "      <td>False</td>\n",
       "      <td>False</td>\n",
       "      <td>False</td>\n",
       "      <td>False</td>\n",
       "      <td>False</td>\n",
       "      <td>False</td>\n",
       "    </tr>\n",
       "    <tr>\n",
       "      <th>2</th>\n",
       "      <td>False</td>\n",
       "      <td>False</td>\n",
       "      <td>False</td>\n",
       "      <td>False</td>\n",
       "      <td>False</td>\n",
       "      <td>False</td>\n",
       "      <td>False</td>\n",
       "      <td>False</td>\n",
       "      <td>False</td>\n",
       "      <td>False</td>\n",
       "      <td>False</td>\n",
       "      <td>False</td>\n",
       "      <td>False</td>\n",
       "    </tr>\n",
       "    <tr>\n",
       "      <th>3</th>\n",
       "      <td>False</td>\n",
       "      <td>False</td>\n",
       "      <td>False</td>\n",
       "      <td>False</td>\n",
       "      <td>False</td>\n",
       "      <td>False</td>\n",
       "      <td>False</td>\n",
       "      <td>False</td>\n",
       "      <td>False</td>\n",
       "      <td>False</td>\n",
       "      <td>False</td>\n",
       "      <td>False</td>\n",
       "      <td>False</td>\n",
       "    </tr>\n",
       "    <tr>\n",
       "      <th>4</th>\n",
       "      <td>False</td>\n",
       "      <td>False</td>\n",
       "      <td>False</td>\n",
       "      <td>False</td>\n",
       "      <td>False</td>\n",
       "      <td>False</td>\n",
       "      <td>False</td>\n",
       "      <td>False</td>\n",
       "      <td>False</td>\n",
       "      <td>False</td>\n",
       "      <td>False</td>\n",
       "      <td>False</td>\n",
       "      <td>False</td>\n",
       "    </tr>\n",
       "    <tr>\n",
       "      <th>...</th>\n",
       "      <td>...</td>\n",
       "      <td>...</td>\n",
       "      <td>...</td>\n",
       "      <td>...</td>\n",
       "      <td>...</td>\n",
       "      <td>...</td>\n",
       "      <td>...</td>\n",
       "      <td>...</td>\n",
       "      <td>...</td>\n",
       "      <td>...</td>\n",
       "      <td>...</td>\n",
       "      <td>...</td>\n",
       "      <td>...</td>\n",
       "    </tr>\n",
       "    <tr>\n",
       "      <th>31973</th>\n",
       "      <td>False</td>\n",
       "      <td>False</td>\n",
       "      <td>False</td>\n",
       "      <td>False</td>\n",
       "      <td>False</td>\n",
       "      <td>False</td>\n",
       "      <td>False</td>\n",
       "      <td>False</td>\n",
       "      <td>False</td>\n",
       "      <td>False</td>\n",
       "      <td>False</td>\n",
       "      <td>False</td>\n",
       "      <td>False</td>\n",
       "    </tr>\n",
       "    <tr>\n",
       "      <th>31974</th>\n",
       "      <td>False</td>\n",
       "      <td>False</td>\n",
       "      <td>False</td>\n",
       "      <td>False</td>\n",
       "      <td>False</td>\n",
       "      <td>False</td>\n",
       "      <td>False</td>\n",
       "      <td>False</td>\n",
       "      <td>False</td>\n",
       "      <td>False</td>\n",
       "      <td>False</td>\n",
       "      <td>False</td>\n",
       "      <td>False</td>\n",
       "    </tr>\n",
       "    <tr>\n",
       "      <th>31975</th>\n",
       "      <td>False</td>\n",
       "      <td>False</td>\n",
       "      <td>False</td>\n",
       "      <td>False</td>\n",
       "      <td>False</td>\n",
       "      <td>False</td>\n",
       "      <td>False</td>\n",
       "      <td>False</td>\n",
       "      <td>False</td>\n",
       "      <td>False</td>\n",
       "      <td>False</td>\n",
       "      <td>False</td>\n",
       "      <td>False</td>\n",
       "    </tr>\n",
       "    <tr>\n",
       "      <th>31976</th>\n",
       "      <td>False</td>\n",
       "      <td>False</td>\n",
       "      <td>False</td>\n",
       "      <td>False</td>\n",
       "      <td>False</td>\n",
       "      <td>False</td>\n",
       "      <td>False</td>\n",
       "      <td>False</td>\n",
       "      <td>False</td>\n",
       "      <td>False</td>\n",
       "      <td>False</td>\n",
       "      <td>False</td>\n",
       "      <td>False</td>\n",
       "    </tr>\n",
       "    <tr>\n",
       "      <th>31977</th>\n",
       "      <td>False</td>\n",
       "      <td>False</td>\n",
       "      <td>False</td>\n",
       "      <td>False</td>\n",
       "      <td>False</td>\n",
       "      <td>False</td>\n",
       "      <td>False</td>\n",
       "      <td>False</td>\n",
       "      <td>False</td>\n",
       "      <td>False</td>\n",
       "      <td>False</td>\n",
       "      <td>False</td>\n",
       "      <td>False</td>\n",
       "    </tr>\n",
       "  </tbody>\n",
       "</table>\n",
       "<p>31978 rows × 13 columns</p>\n",
       "</div>"
      ],
      "text/plain": [
       "         age  JobType  EdType  maritalstatus  occupation  relationship   race  \\\n",
       "0      False    False   False          False       False         False  False   \n",
       "1      False    False   False          False       False         False  False   \n",
       "2      False    False   False          False       False         False  False   \n",
       "3      False    False   False          False       False         False  False   \n",
       "4      False    False   False          False       False         False  False   \n",
       "...      ...      ...     ...            ...         ...           ...    ...   \n",
       "31973  False    False   False          False       False         False  False   \n",
       "31974  False    False   False          False       False         False  False   \n",
       "31975  False    False   False          False       False         False  False   \n",
       "31976  False    False   False          False       False         False  False   \n",
       "31977  False    False   False          False       False         False  False   \n",
       "\n",
       "       gender  capitalgain  capitalloss  hoursperweek  nativecountry  SalStat  \n",
       "0       False        False        False         False          False    False  \n",
       "1       False        False        False         False          False    False  \n",
       "2       False        False        False         False          False    False  \n",
       "3       False        False        False         False          False    False  \n",
       "4       False        False        False         False          False    False  \n",
       "...       ...          ...          ...           ...            ...      ...  \n",
       "31973   False        False        False         False          False    False  \n",
       "31974   False        False        False         False          False    False  \n",
       "31975   False        False        False         False          False    False  \n",
       "31976   False        False        False         False          False    False  \n",
       "31977   False        False        False         False          False    False  \n",
       "\n",
       "[31978 rows x 13 columns]"
      ]
     },
     "execution_count": 9,
     "metadata": {},
     "output_type": "execute_result"
    }
   ],
   "source": [
    "# Check for missing values\n",
    "data.isnull()"
   ]
  },
  {
   "cell_type": "code",
   "execution_count": 10,
   "id": "93e92cd0",
   "metadata": {},
   "outputs": [
    {
     "name": "stdout",
     "output_type": "stream",
     "text": [
      "Data columns with null values:\n",
      " age              0\n",
      "JobType          0\n",
      "EdType           0\n",
      "maritalstatus    0\n",
      "occupation       0\n",
      "relationship     0\n",
      "race             0\n",
      "gender           0\n",
      "capitalgain      0\n",
      "capitalloss      0\n",
      "hoursperweek     0\n",
      "nativecountry    0\n",
      "SalStat          0\n",
      "dtype: int64\n"
     ]
    }
   ],
   "source": [
    "print('Data columns with null values:\\n',data.isnull().sum())\n",
    "# No missing values !!"
   ]
  },
  {
   "cell_type": "code",
   "execution_count": 11,
   "id": "e4fea737",
   "metadata": {},
   "outputs": [
    {
     "data": {
      "text/plain": [
       "age               73\n",
       "JobType            9\n",
       "EdType            16\n",
       "maritalstatus      7\n",
       "occupation        15\n",
       "relationship       6\n",
       "race               5\n",
       "gender             2\n",
       "capitalgain      119\n",
       "capitalloss       92\n",
       "hoursperweek      94\n",
       "nativecountry     41\n",
       "SalStat            2\n",
       "dtype: int64"
      ]
     },
     "execution_count": 11,
     "metadata": {},
     "output_type": "execute_result"
    }
   ],
   "source": [
    "data.nunique()"
   ]
  },
  {
   "cell_type": "code",
   "execution_count": 12,
   "id": "c0b65e1e",
   "metadata": {},
   "outputs": [
    {
     "name": "stdout",
     "output_type": "stream",
     "text": [
      "age = [45 24 44 27 20 51 17 19 60 40 30 38 23 32 54 50 37 52 49 22 35 67 46 33\n",
      " 43 28 41 25 63 59 34 26 72 62 58 47 39 53 57 21 42 74 36 29 31 69 18 65\n",
      " 55 48 71 70 66 56 61 68 64 73 81 78 76 90 88 75 77 80 82 79 83 84 85 86\n",
      " 87]\n",
      "capitalgain = [    0   594 15024  7688 20051  5013  2174  6849  1055  5178  4101  1111\n",
      "  8614  3411  2597 25236  4386  4650  7298  2407 14084  2463  3103 10605\n",
      "  2964  3325  2580  3471  4865 99999  6514  1471  3674  2329  2105  2885\n",
      " 25124  2176 10520  2202  2961 27828  6767  2228  1506 13550  1409  2635\n",
      "  5556 14344  4787  3781  3137  3818   914  4064   401  2829  2977  4934\n",
      "  2062  2354  3464  5455 15020  1424  3273 22040  4416  3908 10566   991\n",
      "  4931  1086  7430 34095  6497   114  9386  2346  3418  3432  2907  1151\n",
      "  2414  2290 15831 41310  4508  2050  2538  3456  6418  1848  3887  7896\n",
      "  5721  9562  1455  2036  3942  1831 11678  2936  2993  7443  6360  1797\n",
      "  1173  4687  6723  2009  6097  2653  1639 18481  7978  2387  5060]\n",
      "capitalloss = [   0 1977 1380 1887 1902 1762 1721 2051 2377 1669 2352 1672  653 2415\n",
      " 2392 1504 1719 2001 1590 1651 1876 1628 1848 1564 1980 1340 2339 1740\n",
      " 2002 1579 1741 1408 2258 1485 1602  419 2547 2174 2206 2205 1726 2444\n",
      " 1138 2238 2179  625  213 1816 1539  880 1668 1092 1594 2042 2231 1844\n",
      "  810 2824 2559 2057 1573 1974  974 2149 1825 1735 1258 2603 2282  323\n",
      " 4356 2246 1617 1648 2489 3770 1755 3683 2129 2267 2080 2457  155 3900\n",
      " 2201 1944 2467 2163 2754 2472 3004 1411]\n",
      "hoursperweek = [28 40 35  5 55 50 60 20 45 16 24  6 30 25 36 42  8 38 80 58  9 46 48 32\n",
      " 12 70 47 37 21 64 26 14 15 10  4 65 72 18 56 33 75  7 52 44 99 43  2 53\n",
      " 39 54 62 41 59  1 57 78 90 34 66 11 49 84  3 17 68 22 27 13 98 85 31 51\n",
      " 77 63 23 87 88 73 89 97 19 94 29 96 67 82 86 91 81 76 92 61 74 95]\n"
     ]
    }
   ],
   "source": [
    "for i in data.columns.values.tolist():\n",
    "    if data[i].dtypes!=object:\n",
    "        print(i,'=',data[i].unique())"
   ]
  },
  {
   "cell_type": "code",
   "execution_count": 13,
   "id": "467cdacb",
   "metadata": {},
   "outputs": [
    {
     "name": "stdout",
     "output_type": "stream",
     "text": [
      "JobType = [' Private' ' Federal-gov' ' ?' ' Self-emp-inc' ' Self-emp-not-inc'\n",
      " ' Local-gov' ' State-gov' ' Without-pay' ' Never-worked']\n",
      "EdType = [' HS-grad' ' Some-college' ' 9th' ' 11th' ' Assoc-voc' ' Assoc-acdm'\n",
      " ' Bachelors' ' 1st-4th' ' Masters' ' 10th' ' 12th' ' 5th-6th'\n",
      " ' Prof-school' ' Doctorate' ' 7th-8th' ' Preschool']\n",
      "maritalstatus = [' Divorced' ' Never-married' ' Married-civ-spouse' ' Widowed'\n",
      " ' Married-spouse-absent' ' Separated' ' Married-AF-spouse']\n",
      "occupation = [' Adm-clerical' ' Armed-Forces' ' Prof-specialty' ' Craft-repair'\n",
      " ' Sales' ' Exec-managerial' ' Machine-op-inspct' ' ?' ' Transport-moving'\n",
      " ' Farming-fishing' ' Tech-support' ' Other-service' ' Handlers-cleaners'\n",
      " ' Protective-serv' ' Priv-house-serv']\n",
      "relationship = [' Not-in-family' ' Own-child' ' Husband' ' Other-relative' ' Unmarried'\n",
      " ' Wife']\n",
      "race = [' White' ' Black' ' Amer-Indian-Eskimo' ' Asian-Pac-Islander' ' Other']\n",
      "gender = [' Female' ' Male']\n",
      "nativecountry = [' United-States' ' Mexico' ' Portugal' ' El-Salvador' ' Poland' ' France'\n",
      " ' Puerto-Rico' ' Canada' ' Cuba' ' Taiwan' ' Philippines' ' South'\n",
      " ' Dominican-Republic' ' Jamaica' ' Honduras' ' Haiti' ' Germany'\n",
      " ' Guatemala' ' England' ' Italy' ' China' ' India' ' Japan' ' Yugoslavia'\n",
      " ' Iran' ' Thailand' ' Peru' ' Outlying-US(Guam-USVI-etc)' ' Scotland'\n",
      " ' Trinadad&Tobago' ' Greece' ' Nicaragua' ' Cambodia' ' Vietnam' ' Hong'\n",
      " ' Columbia' ' Ireland' ' Ecuador' ' Laos' ' Hungary'\n",
      " ' Holand-Netherlands']\n",
      "SalStat = [' less than or equal to 50,000' ' greater than 50,000']\n"
     ]
    }
   ],
   "source": [
    "for i in data.columns.values.tolist():\n",
    "    if data[i].dtypes==object:\n",
    "        print(i,'=',data[i].unique())"
   ]
  },
  {
   "cell_type": "code",
   "execution_count": 14,
   "id": "181c80bc",
   "metadata": {},
   "outputs": [
    {
     "name": "stdout",
     "output_type": "stream",
     "text": [
      "[' ?' ' Federal-gov' ' Local-gov' ' Never-worked' ' Private'\n",
      " ' Self-emp-inc' ' Self-emp-not-inc' ' State-gov' ' Without-pay']\n",
      "[' ?' ' Adm-clerical' ' Armed-Forces' ' Craft-repair' ' Exec-managerial'\n",
      " ' Farming-fishing' ' Handlers-cleaners' ' Machine-op-inspct'\n",
      " ' Other-service' ' Priv-house-serv' ' Prof-specialty' ' Protective-serv'\n",
      " ' Sales' ' Tech-support' ' Transport-moving']\n"
     ]
    }
   ],
   "source": [
    "# Checking for unique classes\n",
    "print(np.unique(data['JobType']))\n",
    "print(np.unique(data['occupation']))\n",
    "## There exists '?' instead of nan !!"
   ]
  },
  {
   "cell_type": "code",
   "execution_count": 15,
   "id": "a60b11f3",
   "metadata": {},
   "outputs": [
    {
     "data": {
      "text/plain": [
       " Private             22286\n",
       " Self-emp-not-inc     2499\n",
       " Local-gov            2067\n",
       " ?                    1809\n",
       " State-gov            1279\n",
       " Self-emp-inc         1074\n",
       " Federal-gov           943\n",
       " Without-pay            14\n",
       " Never-worked            7\n",
       "Name: JobType, dtype: int64"
      ]
     },
     "execution_count": 15,
     "metadata": {},
     "output_type": "execute_result"
    }
   ],
   "source": [
    "data['JobType'].value_counts()"
   ]
  },
  {
   "cell_type": "code",
   "execution_count": 16,
   "id": "a99898c8",
   "metadata": {},
   "outputs": [
    {
     "data": {
      "text/plain": [
       " Prof-specialty       4038\n",
       " Craft-repair         4030\n",
       " Exec-managerial      3992\n",
       " Adm-clerical         3721\n",
       " Sales                3584\n",
       " Other-service        3212\n",
       " Machine-op-inspct    1966\n",
       " ?                    1816\n",
       " Transport-moving     1572\n",
       " Handlers-cleaners    1350\n",
       " Farming-fishing       989\n",
       " Tech-support          912\n",
       " Protective-serv       644\n",
       " Priv-house-serv       143\n",
       " Armed-Forces            9\n",
       "Name: occupation, dtype: int64"
      ]
     },
     "execution_count": 16,
     "metadata": {},
     "output_type": "execute_result"
    }
   ],
   "source": [
    "data['occupation'].value_counts()"
   ]
  },
  {
   "cell_type": "code",
   "execution_count": 17,
   "id": "f2c42ecd",
   "metadata": {},
   "outputs": [],
   "source": [
    "# Replacing the special character '?' with nan\n",
    "data = pd.read_csv(r\"C:\\Users\\user\\Documents\\projects\\MSc projects (CURAJ)\\classification problem for subsidy\\income.csv\",na_values=[\" ?\"])"
   ]
  },
  {
   "cell_type": "code",
   "execution_count": 18,
   "id": "b4d0493f",
   "metadata": {},
   "outputs": [
    {
     "data": {
      "text/plain": [
       "age                 0\n",
       "JobType          1809\n",
       "EdType              0\n",
       "maritalstatus       0\n",
       "occupation       1816\n",
       "relationship        0\n",
       "race                0\n",
       "gender              0\n",
       "capitalgain         0\n",
       "capitalloss         0\n",
       "hoursperweek        0\n",
       "nativecountry       0\n",
       "SalStat             0\n",
       "dtype: int64"
      ]
     },
     "execution_count": 18,
     "metadata": {},
     "output_type": "execute_result"
    }
   ],
   "source": [
    "data.isnull().sum()"
   ]
  },
  {
   "cell_type": "code",
   "execution_count": 19,
   "id": "34028c45",
   "metadata": {},
   "outputs": [
    {
     "data": {
      "text/html": [
       "<div>\n",
       "<style scoped>\n",
       "    .dataframe tbody tr th:only-of-type {\n",
       "        vertical-align: middle;\n",
       "    }\n",
       "\n",
       "    .dataframe tbody tr th {\n",
       "        vertical-align: top;\n",
       "    }\n",
       "\n",
       "    .dataframe thead th {\n",
       "        text-align: right;\n",
       "    }\n",
       "</style>\n",
       "<table border=\"1\" class=\"dataframe\">\n",
       "  <thead>\n",
       "    <tr style=\"text-align: right;\">\n",
       "      <th></th>\n",
       "      <th>age</th>\n",
       "      <th>JobType</th>\n",
       "      <th>EdType</th>\n",
       "      <th>maritalstatus</th>\n",
       "      <th>occupation</th>\n",
       "      <th>relationship</th>\n",
       "      <th>race</th>\n",
       "      <th>gender</th>\n",
       "      <th>capitalgain</th>\n",
       "      <th>capitalloss</th>\n",
       "      <th>hoursperweek</th>\n",
       "      <th>nativecountry</th>\n",
       "      <th>SalStat</th>\n",
       "    </tr>\n",
       "  </thead>\n",
       "  <tbody>\n",
       "    <tr>\n",
       "      <th>8</th>\n",
       "      <td>17</td>\n",
       "      <td>NaN</td>\n",
       "      <td>11th</td>\n",
       "      <td>Never-married</td>\n",
       "      <td>NaN</td>\n",
       "      <td>Own-child</td>\n",
       "      <td>White</td>\n",
       "      <td>Female</td>\n",
       "      <td>0</td>\n",
       "      <td>0</td>\n",
       "      <td>5</td>\n",
       "      <td>United-States</td>\n",
       "      <td>less than or equal to 50,000</td>\n",
       "    </tr>\n",
       "    <tr>\n",
       "      <th>17</th>\n",
       "      <td>32</td>\n",
       "      <td>NaN</td>\n",
       "      <td>Some-college</td>\n",
       "      <td>Married-civ-spouse</td>\n",
       "      <td>NaN</td>\n",
       "      <td>Husband</td>\n",
       "      <td>White</td>\n",
       "      <td>Male</td>\n",
       "      <td>0</td>\n",
       "      <td>0</td>\n",
       "      <td>40</td>\n",
       "      <td>United-States</td>\n",
       "      <td>less than or equal to 50,000</td>\n",
       "    </tr>\n",
       "    <tr>\n",
       "      <th>29</th>\n",
       "      <td>22</td>\n",
       "      <td>NaN</td>\n",
       "      <td>Some-college</td>\n",
       "      <td>Never-married</td>\n",
       "      <td>NaN</td>\n",
       "      <td>Own-child</td>\n",
       "      <td>White</td>\n",
       "      <td>Male</td>\n",
       "      <td>0</td>\n",
       "      <td>0</td>\n",
       "      <td>40</td>\n",
       "      <td>United-States</td>\n",
       "      <td>less than or equal to 50,000</td>\n",
       "    </tr>\n",
       "    <tr>\n",
       "      <th>42</th>\n",
       "      <td>52</td>\n",
       "      <td>NaN</td>\n",
       "      <td>12th</td>\n",
       "      <td>Never-married</td>\n",
       "      <td>NaN</td>\n",
       "      <td>Other-relative</td>\n",
       "      <td>Black</td>\n",
       "      <td>Male</td>\n",
       "      <td>594</td>\n",
       "      <td>0</td>\n",
       "      <td>40</td>\n",
       "      <td>United-States</td>\n",
       "      <td>less than or equal to 50,000</td>\n",
       "    </tr>\n",
       "    <tr>\n",
       "      <th>44</th>\n",
       "      <td>63</td>\n",
       "      <td>NaN</td>\n",
       "      <td>1st-4th</td>\n",
       "      <td>Married-civ-spouse</td>\n",
       "      <td>NaN</td>\n",
       "      <td>Husband</td>\n",
       "      <td>White</td>\n",
       "      <td>Male</td>\n",
       "      <td>0</td>\n",
       "      <td>0</td>\n",
       "      <td>35</td>\n",
       "      <td>United-States</td>\n",
       "      <td>less than or equal to 50,000</td>\n",
       "    </tr>\n",
       "    <tr>\n",
       "      <th>...</th>\n",
       "      <td>...</td>\n",
       "      <td>...</td>\n",
       "      <td>...</td>\n",
       "      <td>...</td>\n",
       "      <td>...</td>\n",
       "      <td>...</td>\n",
       "      <td>...</td>\n",
       "      <td>...</td>\n",
       "      <td>...</td>\n",
       "      <td>...</td>\n",
       "      <td>...</td>\n",
       "      <td>...</td>\n",
       "      <td>...</td>\n",
       "    </tr>\n",
       "    <tr>\n",
       "      <th>31892</th>\n",
       "      <td>59</td>\n",
       "      <td>NaN</td>\n",
       "      <td>Bachelors</td>\n",
       "      <td>Married-civ-spouse</td>\n",
       "      <td>NaN</td>\n",
       "      <td>Husband</td>\n",
       "      <td>White</td>\n",
       "      <td>Male</td>\n",
       "      <td>0</td>\n",
       "      <td>0</td>\n",
       "      <td>40</td>\n",
       "      <td>United-States</td>\n",
       "      <td>greater than 50,000</td>\n",
       "    </tr>\n",
       "    <tr>\n",
       "      <th>31934</th>\n",
       "      <td>20</td>\n",
       "      <td>NaN</td>\n",
       "      <td>HS-grad</td>\n",
       "      <td>Never-married</td>\n",
       "      <td>NaN</td>\n",
       "      <td>Other-relative</td>\n",
       "      <td>White</td>\n",
       "      <td>Female</td>\n",
       "      <td>0</td>\n",
       "      <td>0</td>\n",
       "      <td>35</td>\n",
       "      <td>United-States</td>\n",
       "      <td>less than or equal to 50,000</td>\n",
       "    </tr>\n",
       "    <tr>\n",
       "      <th>31945</th>\n",
       "      <td>28</td>\n",
       "      <td>NaN</td>\n",
       "      <td>Some-college</td>\n",
       "      <td>Married-civ-spouse</td>\n",
       "      <td>NaN</td>\n",
       "      <td>Wife</td>\n",
       "      <td>White</td>\n",
       "      <td>Female</td>\n",
       "      <td>0</td>\n",
       "      <td>1887</td>\n",
       "      <td>40</td>\n",
       "      <td>United-States</td>\n",
       "      <td>greater than 50,000</td>\n",
       "    </tr>\n",
       "    <tr>\n",
       "      <th>31967</th>\n",
       "      <td>80</td>\n",
       "      <td>NaN</td>\n",
       "      <td>HS-grad</td>\n",
       "      <td>Widowed</td>\n",
       "      <td>NaN</td>\n",
       "      <td>Not-in-family</td>\n",
       "      <td>White</td>\n",
       "      <td>Male</td>\n",
       "      <td>0</td>\n",
       "      <td>0</td>\n",
       "      <td>24</td>\n",
       "      <td>United-States</td>\n",
       "      <td>less than or equal to 50,000</td>\n",
       "    </tr>\n",
       "    <tr>\n",
       "      <th>31968</th>\n",
       "      <td>17</td>\n",
       "      <td>NaN</td>\n",
       "      <td>11th</td>\n",
       "      <td>Never-married</td>\n",
       "      <td>NaN</td>\n",
       "      <td>Own-child</td>\n",
       "      <td>White</td>\n",
       "      <td>Male</td>\n",
       "      <td>0</td>\n",
       "      <td>0</td>\n",
       "      <td>40</td>\n",
       "      <td>United-States</td>\n",
       "      <td>less than or equal to 50,000</td>\n",
       "    </tr>\n",
       "  </tbody>\n",
       "</table>\n",
       "<p>1816 rows × 13 columns</p>\n",
       "</div>"
      ],
      "text/plain": [
       "       age JobType         EdType        maritalstatus occupation  \\\n",
       "8       17     NaN           11th        Never-married        NaN   \n",
       "17      32     NaN   Some-college   Married-civ-spouse        NaN   \n",
       "29      22     NaN   Some-college        Never-married        NaN   \n",
       "42      52     NaN           12th        Never-married        NaN   \n",
       "44      63     NaN        1st-4th   Married-civ-spouse        NaN   \n",
       "...    ...     ...            ...                  ...        ...   \n",
       "31892   59     NaN      Bachelors   Married-civ-spouse        NaN   \n",
       "31934   20     NaN        HS-grad        Never-married        NaN   \n",
       "31945   28     NaN   Some-college   Married-civ-spouse        NaN   \n",
       "31967   80     NaN        HS-grad              Widowed        NaN   \n",
       "31968   17     NaN           11th        Never-married        NaN   \n",
       "\n",
       "          relationship    race   gender  capitalgain  capitalloss  \\\n",
       "8            Own-child   White   Female            0            0   \n",
       "17             Husband   White     Male            0            0   \n",
       "29           Own-child   White     Male            0            0   \n",
       "42      Other-relative   Black     Male          594            0   \n",
       "44             Husband   White     Male            0            0   \n",
       "...                ...     ...      ...          ...          ...   \n",
       "31892          Husband   White     Male            0            0   \n",
       "31934   Other-relative   White   Female            0            0   \n",
       "31945             Wife   White   Female            0         1887   \n",
       "31967    Not-in-family   White     Male            0            0   \n",
       "31968        Own-child   White     Male            0            0   \n",
       "\n",
       "       hoursperweek   nativecountry                        SalStat  \n",
       "8                 5   United-States   less than or equal to 50,000  \n",
       "17               40   United-States   less than or equal to 50,000  \n",
       "29               40   United-States   less than or equal to 50,000  \n",
       "42               40   United-States   less than or equal to 50,000  \n",
       "44               35   United-States   less than or equal to 50,000  \n",
       "...             ...             ...                            ...  \n",
       "31892            40   United-States            greater than 50,000  \n",
       "31934            35   United-States   less than or equal to 50,000  \n",
       "31945            40   United-States            greater than 50,000  \n",
       "31967            24   United-States   less than or equal to 50,000  \n",
       "31968            40   United-States   less than or equal to 50,000  \n",
       "\n",
       "[1816 rows x 13 columns]"
      ]
     },
     "execution_count": 19,
     "metadata": {},
     "output_type": "execute_result"
    }
   ],
   "source": [
    "missing = data[data.isnull().any(axis=1)]\n",
    "missing\n",
    "# axis = 1 means to consider at least one column value is missing"
   ]
  },
  {
   "cell_type": "markdown",
   "id": "c5dc553a",
   "metadata": {},
   "source": [
    "#Points to note:\n",
    "1. Missing values in JobType = 1809\n",
    "2. Missing values in Occupation = 1816\n",
    "3. There are 1809 rows where two specific columns. i.e. occupation and jobtype have missing values\n",
    "4. (1816 - 1809) = 7 => We still have occupation unfilled for these 7 rows. Because, those unfilled rows are Never-worked and for JobType Never-worked, occupation will always be null value.\n",
    "So, here we will fill the missing values where only both the columns of JobType and occupation are null and remove the rows of Never-worked.  "
   ]
  },
  {
   "cell_type": "code",
   "execution_count": 20,
   "id": "1e69e9c1",
   "metadata": {},
   "outputs": [],
   "source": [
    "data = pd.read_csv(r\"C:\\Users\\user\\Documents\\projects\\MSc projects (CURAJ)\\classification problem for subsidy\\income.csv\",na_values=[\" Never-worked\"])\n",
    "data = data.dropna(axis=0)"
   ]
  },
  {
   "cell_type": "code",
   "execution_count": 21,
   "id": "2a2e7908",
   "metadata": {},
   "outputs": [
    {
     "name": "stdout",
     "output_type": "stream",
     "text": [
      "[' Adm-clerical' ' Armed-Forces' ' Craft-repair' ' Exec-managerial'\n",
      " ' Farming-fishing' ' Handlers-cleaners' ' Machine-op-inspct'\n",
      " ' Other-service' ' Priv-house-serv' ' Prof-specialty' ' Protective-serv'\n",
      " ' Sales' ' Tech-support' ' Transport-moving']\n",
      "[' Federal-gov' ' Local-gov' ' Private' ' Self-emp-inc'\n",
      " ' Self-emp-not-inc' ' State-gov' ' Without-pay']\n"
     ]
    },
    {
     "data": {
      "text/plain": [
       " Private             24095\n",
       " Self-emp-not-inc     2499\n",
       " Local-gov            2067\n",
       " State-gov            1279\n",
       " Self-emp-inc         1074\n",
       " Federal-gov           943\n",
       " Without-pay            14\n",
       "Name: JobType, dtype: int64"
      ]
     },
     "execution_count": 21,
     "metadata": {},
     "output_type": "execute_result"
    }
   ],
   "source": [
    "data['occupation'].replace(\" ?\",\" Prof-specialty\",inplace=True)\n",
    "print(np.unique(data['occupation']))\n",
    "\n",
    "data['JobType'].replace(' ?',' Private',inplace=True)\n",
    "print(np.unique(data['JobType']))\n",
    "data['JobType'].value_counts()"
   ]
  },
  {
   "cell_type": "markdown",
   "id": "c046844a",
   "metadata": {},
   "source": [
    "Here we replace \"?\" with \"Prof-specialty\" for occupation and \"Private\" for jobtype because of mode of both columns."
   ]
  },
  {
   "cell_type": "code",
   "execution_count": 22,
   "id": "08f2befa",
   "metadata": {},
   "outputs": [
    {
     "data": {
      "text/plain": [
       " Prof-specialty       5847\n",
       " Craft-repair         4030\n",
       " Exec-managerial      3992\n",
       " Adm-clerical         3721\n",
       " Sales                3584\n",
       " Other-service        3212\n",
       " Machine-op-inspct    1966\n",
       " Transport-moving     1572\n",
       " Handlers-cleaners    1350\n",
       " Farming-fishing       989\n",
       " Tech-support          912\n",
       " Protective-serv       644\n",
       " Priv-house-serv       143\n",
       " Armed-Forces            9\n",
       "Name: occupation, dtype: int64"
      ]
     },
     "execution_count": 22,
     "metadata": {},
     "output_type": "execute_result"
    }
   ],
   "source": [
    "data['occupation'].value_counts()"
   ]
  },
  {
   "cell_type": "code",
   "execution_count": 23,
   "id": "f951b6d9",
   "metadata": {},
   "outputs": [],
   "source": [
    "data_copy = data.copy()"
   ]
  },
  {
   "cell_type": "markdown",
   "id": "065bdecc",
   "metadata": {},
   "source": [
    "# Cross tables and Data visualization"
   ]
  },
  {
   "cell_type": "code",
   "execution_count": 24,
   "id": "ead4f42a",
   "metadata": {},
   "outputs": [
    {
     "data": {
      "text/html": [
       "<div>\n",
       "<style scoped>\n",
       "    .dataframe tbody tr th:only-of-type {\n",
       "        vertical-align: middle;\n",
       "    }\n",
       "\n",
       "    .dataframe tbody tr th {\n",
       "        vertical-align: top;\n",
       "    }\n",
       "\n",
       "    .dataframe thead th {\n",
       "        text-align: right;\n",
       "    }\n",
       "</style>\n",
       "<table border=\"1\" class=\"dataframe\">\n",
       "  <thead>\n",
       "    <tr style=\"text-align: right;\">\n",
       "      <th></th>\n",
       "      <th>age</th>\n",
       "      <th>capitalgain</th>\n",
       "      <th>capitalloss</th>\n",
       "      <th>hoursperweek</th>\n",
       "    </tr>\n",
       "  </thead>\n",
       "  <tbody>\n",
       "    <tr>\n",
       "      <th>age</th>\n",
       "      <td>1.000000</td>\n",
       "      <td>0.077464</td>\n",
       "      <td>0.057231</td>\n",
       "      <td>0.068013</td>\n",
       "    </tr>\n",
       "    <tr>\n",
       "      <th>capitalgain</th>\n",
       "      <td>0.077464</td>\n",
       "      <td>1.000000</td>\n",
       "      <td>-0.031506</td>\n",
       "      <td>0.079100</td>\n",
       "    </tr>\n",
       "    <tr>\n",
       "      <th>capitalloss</th>\n",
       "      <td>0.057231</td>\n",
       "      <td>-0.031506</td>\n",
       "      <td>1.000000</td>\n",
       "      <td>0.053074</td>\n",
       "    </tr>\n",
       "    <tr>\n",
       "      <th>hoursperweek</th>\n",
       "      <td>0.068013</td>\n",
       "      <td>0.079100</td>\n",
       "      <td>0.053074</td>\n",
       "      <td>1.000000</td>\n",
       "    </tr>\n",
       "  </tbody>\n",
       "</table>\n",
       "</div>"
      ],
      "text/plain": [
       "                   age  capitalgain  capitalloss  hoursperweek\n",
       "age           1.000000     0.077464     0.057231      0.068013\n",
       "capitalgain   0.077464     1.000000    -0.031506      0.079100\n",
       "capitalloss   0.057231    -0.031506     1.000000      0.053074\n",
       "hoursperweek  0.068013     0.079100     0.053074      1.000000"
      ]
     },
     "execution_count": 24,
     "metadata": {},
     "output_type": "execute_result"
    }
   ],
   "source": [
    "correlation = data_copy.corr()\n",
    "correlation"
   ]
  },
  {
   "cell_type": "code",
   "execution_count": 25,
   "id": "19939bc8",
   "metadata": {},
   "outputs": [
    {
     "data": {
      "text/plain": [
       "(array([5496., 5777., 5911., 6030., 3913., 2549., 1567.,  491.,  171.,\n",
       "          66.]),\n",
       " array([17. , 24.3, 31.6, 38.9, 46.2, 53.5, 60.8, 68.1, 75.4, 82.7, 90. ]),\n",
       " <BarContainer object of 10 artists>)"
      ]
     },
     "execution_count": 25,
     "metadata": {},
     "output_type": "execute_result"
    },
    {
     "data": {
      "image/png": "[encoded data removed]",
      "text/plain": [
       "<Figure size 432x288 with 1 Axes>"
      ]
     },
     "metadata": {
      "needs_background": "light"
     },
     "output_type": "display_data"
    }
   ],
   "source": [
    "# Age vs Salary status\n",
    "# Histogram of Age\n",
    "plt.hist(data_copy['age'] ,color='green',edgecolor='white', bins=10 )\n",
    "## Most people from data set are of age 15-45"
   ]
  },
  {
   "cell_type": "code",
   "execution_count": 26,
   "id": "faba5cf3",
   "metadata": {},
   "outputs": [
    {
     "name": "stderr",
     "output_type": "stream",
     "text": [
      "C:\\Users\\user\\anaconda3\\lib\\site-packages\\seaborn\\_decorators.py:36: FutureWarning: Pass the following variables as keyword args: x, y. From version 0.12, the only valid positional argument will be `data`, and passing other arguments without an explicit keyword will result in an error or misinterpretation.\n",
      "  warnings.warn(\n"
     ]
    },
    {
     "data": {
      "text/plain": [
       "SalStat\n",
       " greater than 50,000             44.0\n",
       " less than or equal to 50,000    34.0\n",
       "Name: age, dtype: float64"
      ]
     },
     "execution_count": 26,
     "metadata": {},
     "output_type": "execute_result"
    },
    {
     "data": {
      "image/png": "[encoded data removed]",
      "text/plain": [
       "<Figure size 432x288 with 1 Axes>"
      ]
     },
     "metadata": {
      "needs_background": "light"
     },
     "output_type": "display_data"
    }
   ],
   "source": [
    "sns.boxplot('SalStat', 'age', data=data_copy)\n",
    "data_copy.groupby('SalStat')['age'].median()\n",
    "## people with 35-50 age are more likely to earn > 50000\n",
    "## people with 25-35 age are more likely to earn <=50000"
   ]
  },
  {
   "cell_type": "code",
   "execution_count": 27,
   "id": "65756fb8",
   "metadata": {},
   "outputs": [
    {
     "data": {
      "text/html": [
       "<div>\n",
       "<style scoped>\n",
       "    .dataframe tbody tr th:only-of-type {\n",
       "        vertical-align: middle;\n",
       "    }\n",
       "\n",
       "    .dataframe tbody tr th {\n",
       "        vertical-align: top;\n",
       "    }\n",
       "\n",
       "    .dataframe thead th {\n",
       "        text-align: right;\n",
       "    }\n",
       "</style>\n",
       "<table border=\"1\" class=\"dataframe\">\n",
       "  <thead>\n",
       "    <tr style=\"text-align: right;\">\n",
       "      <th>SalStat</th>\n",
       "      <th>greater than 50,000</th>\n",
       "      <th>less than or equal to 50,000</th>\n",
       "    </tr>\n",
       "    <tr>\n",
       "      <th>JobType</th>\n",
       "      <th></th>\n",
       "      <th></th>\n",
       "    </tr>\n",
       "  </thead>\n",
       "  <tbody>\n",
       "    <tr>\n",
       "      <th>Federal-gov</th>\n",
       "      <td>0.387063</td>\n",
       "      <td>0.612937</td>\n",
       "    </tr>\n",
       "    <tr>\n",
       "      <th>Local-gov</th>\n",
       "      <td>0.294630</td>\n",
       "      <td>0.705370</td>\n",
       "    </tr>\n",
       "    <tr>\n",
       "      <th>Private</th>\n",
       "      <td>0.210127</td>\n",
       "      <td>0.789873</td>\n",
       "    </tr>\n",
       "    <tr>\n",
       "      <th>Self-emp-inc</th>\n",
       "      <td>0.558659</td>\n",
       "      <td>0.441341</td>\n",
       "    </tr>\n",
       "    <tr>\n",
       "      <th>Self-emp-not-inc</th>\n",
       "      <td>0.285714</td>\n",
       "      <td>0.714286</td>\n",
       "    </tr>\n",
       "    <tr>\n",
       "      <th>State-gov</th>\n",
       "      <td>0.268960</td>\n",
       "      <td>0.731040</td>\n",
       "    </tr>\n",
       "    <tr>\n",
       "      <th>Without-pay</th>\n",
       "      <td>0.000000</td>\n",
       "      <td>1.000000</td>\n",
       "    </tr>\n",
       "    <tr>\n",
       "      <th>All</th>\n",
       "      <td>0.240687</td>\n",
       "      <td>0.759313</td>\n",
       "    </tr>\n",
       "  </tbody>\n",
       "</table>\n",
       "</div>"
      ],
      "text/plain": [
       "SalStat             greater than 50,000   less than or equal to 50,000\n",
       "JobType                                                               \n",
       " Federal-gov                   0.387063                       0.612937\n",
       " Local-gov                     0.294630                       0.705370\n",
       " Private                       0.210127                       0.789873\n",
       " Self-emp-inc                  0.558659                       0.441341\n",
       " Self-emp-not-inc              0.285714                       0.714286\n",
       " State-gov                     0.268960                       0.731040\n",
       " Without-pay                   0.000000                       1.000000\n",
       "All                            0.240687                       0.759313"
      ]
     },
     "execution_count": 27,
     "metadata": {},
     "output_type": "execute_result"
    },
    {
     "data": {
      "image/png": "[encoded data removed]",
      "text/plain": [
       "<Figure size 432x288 with 1 Axes>"
      ]
     },
     "metadata": {
      "needs_background": "light"
     },
     "output_type": "display_data"
    }
   ],
   "source": [
    "# Job type vs Salary status\n",
    "sns.countplot(y = \"JobType\" , data = data_copy , hue = \"SalStat\")\n",
    "pd.crosstab(index = data_copy['JobType'], columns = data_copy['SalStat'], margins= True, normalize = 'index')\n",
    "## From below table it is visible that 56% of self employed people earn more than 50000"
   ]
  },
  {
   "cell_type": "code",
   "execution_count": 28,
   "id": "9d980dde",
   "metadata": {},
   "outputs": [
    {
     "data": {
      "text/html": [
       "<div>\n",
       "<style scoped>\n",
       "    .dataframe tbody tr th:only-of-type {\n",
       "        vertical-align: middle;\n",
       "    }\n",
       "\n",
       "    .dataframe tbody tr th {\n",
       "        vertical-align: top;\n",
       "    }\n",
       "\n",
       "    .dataframe thead th {\n",
       "        text-align: right;\n",
       "    }\n",
       "</style>\n",
       "<table border=\"1\" class=\"dataframe\">\n",
       "  <thead>\n",
       "    <tr style=\"text-align: right;\">\n",
       "      <th>SalStat</th>\n",
       "      <th>greater than 50,000</th>\n",
       "      <th>less than or equal to 50,000</th>\n",
       "    </tr>\n",
       "    <tr>\n",
       "      <th>EdType</th>\n",
       "      <th></th>\n",
       "      <th></th>\n",
       "    </tr>\n",
       "  </thead>\n",
       "  <tbody>\n",
       "    <tr>\n",
       "      <th>10th</th>\n",
       "      <td>0.066376</td>\n",
       "      <td>0.933624</td>\n",
       "    </tr>\n",
       "    <tr>\n",
       "      <th>11th</th>\n",
       "      <td>0.050600</td>\n",
       "      <td>0.949400</td>\n",
       "    </tr>\n",
       "    <tr>\n",
       "      <th>12th</th>\n",
       "      <td>0.074341</td>\n",
       "      <td>0.925659</td>\n",
       "    </tr>\n",
       "    <tr>\n",
       "      <th>1st-4th</th>\n",
       "      <td>0.036810</td>\n",
       "      <td>0.963190</td>\n",
       "    </tr>\n",
       "    <tr>\n",
       "      <th>5th-6th</th>\n",
       "      <td>0.044025</td>\n",
       "      <td>0.955975</td>\n",
       "    </tr>\n",
       "    <tr>\n",
       "      <th>7th-8th</th>\n",
       "      <td>0.059105</td>\n",
       "      <td>0.940895</td>\n",
       "    </tr>\n",
       "    <tr>\n",
       "      <th>9th</th>\n",
       "      <td>0.051383</td>\n",
       "      <td>0.948617</td>\n",
       "    </tr>\n",
       "    <tr>\n",
       "      <th>Assoc-acdm</th>\n",
       "      <td>0.248341</td>\n",
       "      <td>0.751659</td>\n",
       "    </tr>\n",
       "    <tr>\n",
       "      <th>Assoc-voc</th>\n",
       "      <td>0.261347</td>\n",
       "      <td>0.738653</td>\n",
       "    </tr>\n",
       "    <tr>\n",
       "      <th>Bachelors</th>\n",
       "      <td>0.416315</td>\n",
       "      <td>0.583685</td>\n",
       "    </tr>\n",
       "    <tr>\n",
       "      <th>Doctorate</th>\n",
       "      <td>0.746154</td>\n",
       "      <td>0.253846</td>\n",
       "    </tr>\n",
       "    <tr>\n",
       "      <th>HS-grad</th>\n",
       "      <td>0.160316</td>\n",
       "      <td>0.839684</td>\n",
       "    </tr>\n",
       "    <tr>\n",
       "      <th>Masters</th>\n",
       "      <td>0.559140</td>\n",
       "      <td>0.440860</td>\n",
       "    </tr>\n",
       "    <tr>\n",
       "      <th>Preschool</th>\n",
       "      <td>0.000000</td>\n",
       "      <td>1.000000</td>\n",
       "    </tr>\n",
       "    <tr>\n",
       "      <th>Prof-school</th>\n",
       "      <td>0.740608</td>\n",
       "      <td>0.259392</td>\n",
       "    </tr>\n",
       "    <tr>\n",
       "      <th>Some-college</th>\n",
       "      <td>0.190675</td>\n",
       "      <td>0.809325</td>\n",
       "    </tr>\n",
       "    <tr>\n",
       "      <th>All</th>\n",
       "      <td>0.240687</td>\n",
       "      <td>0.759313</td>\n",
       "    </tr>\n",
       "  </tbody>\n",
       "</table>\n",
       "</div>"
      ],
      "text/plain": [
       "SalStat         greater than 50,000   less than or equal to 50,000\n",
       "EdType                                                            \n",
       " 10th                      0.066376                       0.933624\n",
       " 11th                      0.050600                       0.949400\n",
       " 12th                      0.074341                       0.925659\n",
       " 1st-4th                   0.036810                       0.963190\n",
       " 5th-6th                   0.044025                       0.955975\n",
       " 7th-8th                   0.059105                       0.940895\n",
       " 9th                       0.051383                       0.948617\n",
       " Assoc-acdm                0.248341                       0.751659\n",
       " Assoc-voc                 0.261347                       0.738653\n",
       " Bachelors                 0.416315                       0.583685\n",
       " Doctorate                 0.746154                       0.253846\n",
       " HS-grad                   0.160316                       0.839684\n",
       " Masters                   0.559140                       0.440860\n",
       " Preschool                 0.000000                       1.000000\n",
       " Prof-school               0.740608                       0.259392\n",
       " Some-college              0.190675                       0.809325\n",
       "All                        0.240687                       0.759313"
      ]
     },
     "execution_count": 28,
     "metadata": {},
     "output_type": "execute_result"
    },
    {
     "data": {
      "image/png": "[encoded data removed]",
      "text/plain": [
       "<Figure size 432x288 with 1 Axes>"
      ]
     },
     "metadata": {
      "needs_background": "light"
     },
     "output_type": "display_data"
    }
   ],
   "source": [
    "# Education vs Salary status\n",
    "sns.countplot(y = \"EdType\" , data = data_copy , hue = \"SalStat\")\n",
    "pd.crosstab(index = data_copy['EdType'], columns = data_copy['SalStat'], margins= True, normalize = 'index')\n",
    "## From the below table we can say that people who have done Doctorate, Masters, Prof-school are more likely to earn above 50000"
   ]
  },
  {
   "cell_type": "code",
   "execution_count": 29,
   "id": "7a8bb438",
   "metadata": {},
   "outputs": [
    {
     "data": {
      "text/html": [
       "<div>\n",
       "<style scoped>\n",
       "    .dataframe tbody tr th:only-of-type {\n",
       "        vertical-align: middle;\n",
       "    }\n",
       "\n",
       "    .dataframe tbody tr th {\n",
       "        vertical-align: top;\n",
       "    }\n",
       "\n",
       "    .dataframe thead th {\n",
       "        text-align: right;\n",
       "    }\n",
       "</style>\n",
       "<table border=\"1\" class=\"dataframe\">\n",
       "  <thead>\n",
       "    <tr style=\"text-align: right;\">\n",
       "      <th>SalStat</th>\n",
       "      <th>greater than 50,000</th>\n",
       "      <th>less than or equal to 50,000</th>\n",
       "    </tr>\n",
       "    <tr>\n",
       "      <th>maritalstatus</th>\n",
       "      <th></th>\n",
       "      <th></th>\n",
       "    </tr>\n",
       "  </thead>\n",
       "  <tbody>\n",
       "    <tr>\n",
       "      <th>Divorced</th>\n",
       "      <td>0.104257</td>\n",
       "      <td>0.895743</td>\n",
       "    </tr>\n",
       "    <tr>\n",
       "      <th>Married-AF-spouse</th>\n",
       "      <td>0.434783</td>\n",
       "      <td>0.565217</td>\n",
       "    </tr>\n",
       "    <tr>\n",
       "      <th>Married-civ-spouse</th>\n",
       "      <td>0.446940</td>\n",
       "      <td>0.553060</td>\n",
       "    </tr>\n",
       "    <tr>\n",
       "      <th>Married-spouse-absent</th>\n",
       "      <td>0.080605</td>\n",
       "      <td>0.919395</td>\n",
       "    </tr>\n",
       "    <tr>\n",
       "      <th>Never-married</th>\n",
       "      <td>0.045693</td>\n",
       "      <td>0.954307</td>\n",
       "    </tr>\n",
       "    <tr>\n",
       "      <th>Separated</th>\n",
       "      <td>0.065672</td>\n",
       "      <td>0.934328</td>\n",
       "    </tr>\n",
       "    <tr>\n",
       "      <th>Widowed</th>\n",
       "      <td>0.085802</td>\n",
       "      <td>0.914198</td>\n",
       "    </tr>\n",
       "    <tr>\n",
       "      <th>All</th>\n",
       "      <td>0.240687</td>\n",
       "      <td>0.759313</td>\n",
       "    </tr>\n",
       "  </tbody>\n",
       "</table>\n",
       "</div>"
      ],
      "text/plain": [
       "SalStat                  greater than 50,000   less than or equal to 50,000\n",
       "maritalstatus                                                              \n",
       " Divorced                           0.104257                       0.895743\n",
       " Married-AF-spouse                  0.434783                       0.565217\n",
       " Married-civ-spouse                 0.446940                       0.553060\n",
       " Married-spouse-absent              0.080605                       0.919395\n",
       " Never-married                      0.045693                       0.954307\n",
       " Separated                          0.065672                       0.934328\n",
       " Widowed                            0.085802                       0.914198\n",
       "All                                 0.240687                       0.759313"
      ]
     },
     "execution_count": 29,
     "metadata": {},
     "output_type": "execute_result"
    },
    {
     "data": {
      "image/png": "[encoded data removed]",
      "text/plain": [
       "<Figure size 432x288 with 1 Axes>"
      ]
     },
     "metadata": {
      "needs_background": "light"
     },
     "output_type": "display_data"
    }
   ],
   "source": [
    "# Marital status vs Salary status\n",
    "sns.countplot(y = \"maritalstatus\" , data = data_copy , hue = \"SalStat\")\n",
    "pd.crosstab(index = data_copy['maritalstatus'], columns = data_copy['SalStat'], margins= True, normalize = 'index')\n",
    "##From the below table we can say that people of maritial status Married-AF-spouse and Married-civ-spouse are earned more than 50000"
   ]
  },
  {
   "cell_type": "code",
   "execution_count": 30,
   "id": "0d9b3560",
   "metadata": {},
   "outputs": [
    {
     "data": {
      "text/html": [
       "<div>\n",
       "<style scoped>\n",
       "    .dataframe tbody tr th:only-of-type {\n",
       "        vertical-align: middle;\n",
       "    }\n",
       "\n",
       "    .dataframe tbody tr th {\n",
       "        vertical-align: top;\n",
       "    }\n",
       "\n",
       "    .dataframe thead th {\n",
       "        text-align: right;\n",
       "    }\n",
       "</style>\n",
       "<table border=\"1\" class=\"dataframe\">\n",
       "  <thead>\n",
       "    <tr style=\"text-align: right;\">\n",
       "      <th>SalStat</th>\n",
       "      <th>greater than 50,000</th>\n",
       "      <th>less than or equal to 50,000</th>\n",
       "    </tr>\n",
       "    <tr>\n",
       "      <th>occupation</th>\n",
       "      <th></th>\n",
       "      <th></th>\n",
       "    </tr>\n",
       "  </thead>\n",
       "  <tbody>\n",
       "    <tr>\n",
       "      <th>Adm-clerical</th>\n",
       "      <td>0.133835</td>\n",
       "      <td>0.866165</td>\n",
       "    </tr>\n",
       "    <tr>\n",
       "      <th>Armed-Forces</th>\n",
       "      <td>0.111111</td>\n",
       "      <td>0.888889</td>\n",
       "    </tr>\n",
       "    <tr>\n",
       "      <th>Craft-repair</th>\n",
       "      <td>0.225310</td>\n",
       "      <td>0.774690</td>\n",
       "    </tr>\n",
       "    <tr>\n",
       "      <th>Exec-managerial</th>\n",
       "      <td>0.485220</td>\n",
       "      <td>0.514780</td>\n",
       "    </tr>\n",
       "    <tr>\n",
       "      <th>Farming-fishing</th>\n",
       "      <td>0.116279</td>\n",
       "      <td>0.883721</td>\n",
       "    </tr>\n",
       "    <tr>\n",
       "      <th>Handlers-cleaners</th>\n",
       "      <td>0.061481</td>\n",
       "      <td>0.938519</td>\n",
       "    </tr>\n",
       "    <tr>\n",
       "      <th>Machine-op-inspct</th>\n",
       "      <td>0.124619</td>\n",
       "      <td>0.875381</td>\n",
       "    </tr>\n",
       "    <tr>\n",
       "      <th>Other-service</th>\n",
       "      <td>0.041096</td>\n",
       "      <td>0.958904</td>\n",
       "    </tr>\n",
       "    <tr>\n",
       "      <th>Priv-house-serv</th>\n",
       "      <td>0.006993</td>\n",
       "      <td>0.993007</td>\n",
       "    </tr>\n",
       "    <tr>\n",
       "      <th>Prof-specialty</th>\n",
       "      <td>0.341714</td>\n",
       "      <td>0.658286</td>\n",
       "    </tr>\n",
       "    <tr>\n",
       "      <th>Protective-serv</th>\n",
       "      <td>0.326087</td>\n",
       "      <td>0.673913</td>\n",
       "    </tr>\n",
       "    <tr>\n",
       "      <th>Sales</th>\n",
       "      <td>0.270647</td>\n",
       "      <td>0.729353</td>\n",
       "    </tr>\n",
       "    <tr>\n",
       "      <th>Tech-support</th>\n",
       "      <td>0.304825</td>\n",
       "      <td>0.695175</td>\n",
       "    </tr>\n",
       "    <tr>\n",
       "      <th>Transport-moving</th>\n",
       "      <td>0.202926</td>\n",
       "      <td>0.797074</td>\n",
       "    </tr>\n",
       "    <tr>\n",
       "      <th>All</th>\n",
       "      <td>0.240687</td>\n",
       "      <td>0.759313</td>\n",
       "    </tr>\n",
       "  </tbody>\n",
       "</table>\n",
       "</div>"
      ],
      "text/plain": [
       "SalStat              greater than 50,000   less than or equal to 50,000\n",
       "occupation                                                             \n",
       " Adm-clerical                   0.133835                       0.866165\n",
       " Armed-Forces                   0.111111                       0.888889\n",
       " Craft-repair                   0.225310                       0.774690\n",
       " Exec-managerial                0.485220                       0.514780\n",
       " Farming-fishing                0.116279                       0.883721\n",
       " Handlers-cleaners              0.061481                       0.938519\n",
       " Machine-op-inspct              0.124619                       0.875381\n",
       " Other-service                  0.041096                       0.958904\n",
       " Priv-house-serv                0.006993                       0.993007\n",
       " Prof-specialty                 0.341714                       0.658286\n",
       " Protective-serv                0.326087                       0.673913\n",
       " Sales                          0.270647                       0.729353\n",
       " Tech-support                   0.304825                       0.695175\n",
       " Transport-moving               0.202926                       0.797074\n",
       "All                             0.240687                       0.759313"
      ]
     },
     "execution_count": 30,
     "metadata": {},
     "output_type": "execute_result"
    },
    {
     "data": {
      "image/png": "[encoded data removed]",
      "text/plain": [
       "<Figure size 432x288 with 1 Axes>"
      ]
     },
     "metadata": {
      "needs_background": "light"
     },
     "output_type": "display_data"
    }
   ],
   "source": [
    "# Occupation vs Salary status\n",
    "sns.countplot(y = \"occupation\" , data = data_copy , hue = \"SalStat\")\n",
    "pd.crosstab(index = data_copy['occupation'], columns = data_copy['SalStat'], margins= True, normalize = 'index')\n",
    "## Those who make more than 50000 per year are more likely to work as Exec-managerials and Prof-specialty"
   ]
  },
  {
   "cell_type": "code",
   "execution_count": 31,
   "id": "99d3bd89",
   "metadata": {},
   "outputs": [
    {
     "data": {
      "text/html": [
       "<div>\n",
       "<style scoped>\n",
       "    .dataframe tbody tr th:only-of-type {\n",
       "        vertical-align: middle;\n",
       "    }\n",
       "\n",
       "    .dataframe tbody tr th {\n",
       "        vertical-align: top;\n",
       "    }\n",
       "\n",
       "    .dataframe thead th {\n",
       "        text-align: right;\n",
       "    }\n",
       "</style>\n",
       "<table border=\"1\" class=\"dataframe\">\n",
       "  <thead>\n",
       "    <tr style=\"text-align: right;\">\n",
       "      <th>SalStat</th>\n",
       "      <th>greater than 50,000</th>\n",
       "      <th>less than or equal to 50,000</th>\n",
       "    </tr>\n",
       "    <tr>\n",
       "      <th>relationship</th>\n",
       "      <th></th>\n",
       "      <th></th>\n",
       "    </tr>\n",
       "  </thead>\n",
       "  <tbody>\n",
       "    <tr>\n",
       "      <th>Husband</th>\n",
       "      <td>0.448444</td>\n",
       "      <td>0.551556</td>\n",
       "    </tr>\n",
       "    <tr>\n",
       "      <th>Not-in-family</th>\n",
       "      <td>0.103127</td>\n",
       "      <td>0.896873</td>\n",
       "    </tr>\n",
       "    <tr>\n",
       "      <th>Other-relative</th>\n",
       "      <td>0.037815</td>\n",
       "      <td>0.962185</td>\n",
       "    </tr>\n",
       "    <tr>\n",
       "      <th>Own-child</th>\n",
       "      <td>0.013000</td>\n",
       "      <td>0.987000</td>\n",
       "    </tr>\n",
       "    <tr>\n",
       "      <th>Unmarried</th>\n",
       "      <td>0.063534</td>\n",
       "      <td>0.936466</td>\n",
       "    </tr>\n",
       "    <tr>\n",
       "      <th>Wife</th>\n",
       "      <td>0.477495</td>\n",
       "      <td>0.522505</td>\n",
       "    </tr>\n",
       "    <tr>\n",
       "      <th>All</th>\n",
       "      <td>0.240687</td>\n",
       "      <td>0.759313</td>\n",
       "    </tr>\n",
       "  </tbody>\n",
       "</table>\n",
       "</div>"
      ],
      "text/plain": [
       "SalStat           greater than 50,000   less than or equal to 50,000\n",
       "relationship                                                        \n",
       " Husband                     0.448444                       0.551556\n",
       " Not-in-family               0.103127                       0.896873\n",
       " Other-relative              0.037815                       0.962185\n",
       " Own-child                   0.013000                       0.987000\n",
       " Unmarried                   0.063534                       0.936466\n",
       " Wife                        0.477495                       0.522505\n",
       "All                          0.240687                       0.759313"
      ]
     },
     "execution_count": 31,
     "metadata": {},
     "output_type": "execute_result"
    },
    {
     "data": {
      "image/png": "[encoded data removed]",
      "text/plain": [
       "<Figure size 432x288 with 1 Axes>"
      ]
     },
     "metadata": {
      "needs_background": "light"
     },
     "output_type": "display_data"
    }
   ],
   "source": [
    "# Relationship vs Salary status\n",
    "sns.countplot(y = \"relationship\" , data = data_copy , hue = \"SalStat\")\n",
    "pd.crosstab(index = data_copy['relationship'], columns = data_copy['SalStat'], margins= True, normalize = 'index')\n",
    "## Mostly relationship status of husband and wife are more likely to earn more than 50000"
   ]
  },
  {
   "cell_type": "code",
   "execution_count": 32,
   "id": "b985e445",
   "metadata": {},
   "outputs": [
    {
     "data": {
      "text/html": [
       "<div>\n",
       "<style scoped>\n",
       "    .dataframe tbody tr th:only-of-type {\n",
       "        vertical-align: middle;\n",
       "    }\n",
       "\n",
       "    .dataframe tbody tr th {\n",
       "        vertical-align: top;\n",
       "    }\n",
       "\n",
       "    .dataframe thead th {\n",
       "        text-align: right;\n",
       "    }\n",
       "</style>\n",
       "<table border=\"1\" class=\"dataframe\">\n",
       "  <thead>\n",
       "    <tr style=\"text-align: right;\">\n",
       "      <th>SalStat</th>\n",
       "      <th>greater than 50,000</th>\n",
       "      <th>less than or equal to 50,000</th>\n",
       "    </tr>\n",
       "    <tr>\n",
       "      <th>race</th>\n",
       "      <th></th>\n",
       "      <th></th>\n",
       "    </tr>\n",
       "  </thead>\n",
       "  <tbody>\n",
       "    <tr>\n",
       "      <th>Amer-Indian-Eskimo</th>\n",
       "      <td>0.115756</td>\n",
       "      <td>0.884244</td>\n",
       "    </tr>\n",
       "    <tr>\n",
       "      <th>Asian-Pac-Islander</th>\n",
       "      <td>0.264644</td>\n",
       "      <td>0.735356</td>\n",
       "    </tr>\n",
       "    <tr>\n",
       "      <th>Black</th>\n",
       "      <td>0.123596</td>\n",
       "      <td>0.876404</td>\n",
       "    </tr>\n",
       "    <tr>\n",
       "      <th>Other</th>\n",
       "      <td>0.086957</td>\n",
       "      <td>0.913043</td>\n",
       "    </tr>\n",
       "    <tr>\n",
       "      <th>White</th>\n",
       "      <td>0.255606</td>\n",
       "      <td>0.744394</td>\n",
       "    </tr>\n",
       "    <tr>\n",
       "      <th>All</th>\n",
       "      <td>0.240687</td>\n",
       "      <td>0.759313</td>\n",
       "    </tr>\n",
       "  </tbody>\n",
       "</table>\n",
       "</div>"
      ],
      "text/plain": [
       "SalStat               greater than 50,000   less than or equal to 50,000\n",
       "race                                                                    \n",
       " Amer-Indian-Eskimo              0.115756                       0.884244\n",
       " Asian-Pac-Islander              0.264644                       0.735356\n",
       " Black                           0.123596                       0.876404\n",
       " Other                           0.086957                       0.913043\n",
       " White                           0.255606                       0.744394\n",
       "All                              0.240687                       0.759313"
      ]
     },
     "execution_count": 32,
     "metadata": {},
     "output_type": "execute_result"
    },
    {
     "data": {
      "image/png": "[encoded data removed]",
      "text/plain": [
       "<Figure size 432x288 with 1 Axes>"
      ]
     },
     "metadata": {
      "needs_background": "light"
     },
     "output_type": "display_data"
    }
   ],
   "source": [
    "# Bar plot -Race vs Salary status\n",
    "sns.countplot(y = \"race\" , data = data_copy , hue = \"SalStat\")\n",
    "pd.crosstab(index = data_copy['race'], columns = data_copy['SalStat'], margins= True, normalize = 'index')\n",
    "## Most likely white and asian-pac-islander people are earned more than 50000"
   ]
  },
  {
   "cell_type": "code",
   "execution_count": 33,
   "id": "80401597",
   "metadata": {},
   "outputs": [
    {
     "data": {
      "text/html": [
       "<div>\n",
       "<style scoped>\n",
       "    .dataframe tbody tr th:only-of-type {\n",
       "        vertical-align: middle;\n",
       "    }\n",
       "\n",
       "    .dataframe tbody tr th {\n",
       "        vertical-align: top;\n",
       "    }\n",
       "\n",
       "    .dataframe thead th {\n",
       "        text-align: right;\n",
       "    }\n",
       "</style>\n",
       "<table border=\"1\" class=\"dataframe\">\n",
       "  <thead>\n",
       "    <tr style=\"text-align: right;\">\n",
       "      <th>SalStat</th>\n",
       "      <th>greater than 50,000</th>\n",
       "      <th>less than or equal to 50,000</th>\n",
       "    </tr>\n",
       "    <tr>\n",
       "      <th>gender</th>\n",
       "      <th></th>\n",
       "      <th></th>\n",
       "    </tr>\n",
       "  </thead>\n",
       "  <tbody>\n",
       "    <tr>\n",
       "      <th>Female</th>\n",
       "      <td>0.109561</td>\n",
       "      <td>0.890439</td>\n",
       "    </tr>\n",
       "    <tr>\n",
       "      <th>Male</th>\n",
       "      <td>0.305780</td>\n",
       "      <td>0.694220</td>\n",
       "    </tr>\n",
       "    <tr>\n",
       "      <th>All</th>\n",
       "      <td>0.240687</td>\n",
       "      <td>0.759313</td>\n",
       "    </tr>\n",
       "  </tbody>\n",
       "</table>\n",
       "</div>"
      ],
      "text/plain": [
       "SalStat   greater than 50,000   less than or equal to 50,000\n",
       "gender                                                      \n",
       " Female              0.109561                       0.890439\n",
       " Male                0.305780                       0.694220\n",
       "All                  0.240687                       0.759313"
      ]
     },
     "execution_count": 33,
     "metadata": {},
     "output_type": "execute_result"
    },
    {
     "data": {
      "image/png": "[encoded data removed]",
      "text/plain": [
       "<Figure size 432x288 with 1 Axes>"
      ]
     },
     "metadata": {
      "needs_background": "light"
     },
     "output_type": "display_data"
    }
   ],
   "source": [
    "# Gender vs Salary status:\n",
    "sns.countplot(x = \"gender\" , data = data_copy , hue = \"SalStat\")\n",
    "pd.crosstab(index = data_copy[\"gender\"], columns = data_copy[\"SalStat\"], margins = True, normalize = 'index')\n",
    "## Mostly males are earned more than 50000 "
   ]
  },
  {
   "cell_type": "code",
   "execution_count": 34,
   "id": "3a901d2e",
   "metadata": {},
   "outputs": [
    {
     "data": {
      "text/plain": [
       "Text(0, 0.5, 'Frequency')"
      ]
     },
     "execution_count": 34,
     "metadata": {},
     "output_type": "execute_result"
    },
    {
     "data": {
      "image/png": "[encoded data removed]",
      "text/plain": [
       "<Figure size 432x288 with 1 Axes>"
      ]
     },
     "metadata": {
      "needs_background": "light"
     },
     "output_type": "display_data"
    }
   ],
   "source": [
    "# Capital gain\n",
    "plt.hist(data_copy['capitalgain'] ,color='green',edgecolor='white', bins=10 )\n",
    "plt.title('Histogram of capitalgain')\n",
    "plt.xlabel('Capital gain')\n",
    "plt.ylabel('Frequency')\n",
    "## Capital gains of maximum people are 0"
   ]
  },
  {
   "cell_type": "code",
   "execution_count": 35,
   "id": "d84e7bff",
   "metadata": {},
   "outputs": [
    {
     "data": {
      "text/plain": [
       "Text(0, 0.5, 'Frequency')"
      ]
     },
     "execution_count": 35,
     "metadata": {},
     "output_type": "execute_result"
    },
    {
     "data": {
      "image/png": "[encoded data removed]",
      "text/plain": [
       "<Figure size 432x288 with 1 Axes>"
      ]
     },
     "metadata": {
      "needs_background": "light"
     },
     "output_type": "display_data"
    }
   ],
   "source": [
    "# Capital loss\n",
    "plt.hist(data_copy['capitalloss'] ,color='green',edgecolor='white', bins=10 )\n",
    "plt.title('Histogram of capitalloss')\n",
    "plt.xlabel('Capital loss')\n",
    "plt.ylabel('Frequency')\n",
    "## Capital losses of maximum people are 0"
   ]
  },
  {
   "cell_type": "code",
   "execution_count": 36,
   "id": "d260ce97",
   "metadata": {},
   "outputs": [
    {
     "data": {
      "text/plain": [
       "(array([  723.,  2161.,  2277., 17411.,  3062.,  3812.,  1757.,   434.,\n",
       "          197.,   137.]),\n",
       " array([ 1. , 10.8, 20.6, 30.4, 40.2, 50. , 59.8, 69.6, 79.4, 89.2, 99. ]),\n",
       " <BarContainer object of 10 artists>)"
      ]
     },
     "execution_count": 36,
     "metadata": {},
     "output_type": "execute_result"
    },
    {
     "data": {
      "image/png": "[encoded data removed]",
      "text/plain": [
       "<Figure size 432x288 with 1 Axes>"
      ]
     },
     "metadata": {
      "needs_background": "light"
     },
     "output_type": "display_data"
    }
   ],
   "source": [
    "# Hours per week vs Salary status\n",
    "# Histogram of hours per week\n",
    "plt.hist(data_copy['hoursperweek'] ,color='green',edgecolor='white', bins=10 )\n",
    "## Maximum people works 30-40 hours per week according to data"
   ]
  },
  {
   "cell_type": "code",
   "execution_count": 37,
   "id": "9329025e",
   "metadata": {},
   "outputs": [
    {
     "name": "stderr",
     "output_type": "stream",
     "text": [
      "C:\\Users\\user\\anaconda3\\lib\\site-packages\\seaborn\\_decorators.py:36: FutureWarning: Pass the following variables as keyword args: x, y. From version 0.12, the only valid positional argument will be `data`, and passing other arguments without an explicit keyword will result in an error or misinterpretation.\n",
      "  warnings.warn(\n"
     ]
    },
    {
     "data": {
      "text/plain": [
       "SalStat\n",
       " greater than 50,000             40.0\n",
       " less than or equal to 50,000    40.0\n",
       "Name: hoursperweek, dtype: float64"
      ]
     },
     "execution_count": 37,
     "metadata": {},
     "output_type": "execute_result"
    },
    {
     "data": {
      "image/png": "[encoded data removed]",
      "text/plain": [
       "<Figure size 432x288 with 1 Axes>"
      ]
     },
     "metadata": {
      "needs_background": "light"
     },
     "output_type": "display_data"
    }
   ],
   "source": [
    "sns.boxplot('SalStat', 'hoursperweek', data=data_copy)\n",
    "data_copy.groupby('SalStat')['hoursperweek'].median()\n",
    "## From the plot it is clearly visible that those who make more than 50000 are more likely to spend 40-50 hours per week"
   ]
  },
  {
   "cell_type": "code",
   "execution_count": 38,
   "id": "1044afcc",
   "metadata": {},
   "outputs": [
    {
     "name": "stderr",
     "output_type": "stream",
     "text": [
      "C:\\Users\\user\\anaconda3\\lib\\site-packages\\seaborn\\_decorators.py:36: FutureWarning: Pass the following variable as a keyword arg: x. From version 0.12, the only valid positional argument will be `data`, and passing other arguments without an explicit keyword will result in an error or misinterpretation.\n",
      "  warnings.warn(\n"
     ]
    },
    {
     "data": {
      "text/html": [
       "<div>\n",
       "<style scoped>\n",
       "    .dataframe tbody tr th:only-of-type {\n",
       "        vertical-align: middle;\n",
       "    }\n",
       "\n",
       "    .dataframe tbody tr th {\n",
       "        vertical-align: top;\n",
       "    }\n",
       "\n",
       "    .dataframe thead th {\n",
       "        text-align: right;\n",
       "    }\n",
       "</style>\n",
       "<table border=\"1\" class=\"dataframe\">\n",
       "  <thead>\n",
       "    <tr style=\"text-align: right;\">\n",
       "      <th>col_0</th>\n",
       "      <th>count</th>\n",
       "    </tr>\n",
       "    <tr>\n",
       "      <th>SalStat</th>\n",
       "      <th></th>\n",
       "    </tr>\n",
       "  </thead>\n",
       "  <tbody>\n",
       "    <tr>\n",
       "      <th>greater than 50,000</th>\n",
       "      <td>7695</td>\n",
       "    </tr>\n",
       "    <tr>\n",
       "      <th>less than or equal to 50,000</th>\n",
       "      <td>24276</td>\n",
       "    </tr>\n",
       "  </tbody>\n",
       "</table>\n",
       "</div>"
      ],
      "text/plain": [
       "col_0                          count\n",
       "SalStat                             \n",
       " greater than 50,000            7695\n",
       " less than or equal to 50,000  24276"
      ]
     },
     "execution_count": 38,
     "metadata": {},
     "output_type": "execute_result"
    },
    {
     "data": {
      "image/png": "[encoded data removed]",
      "text/plain": [
       "<Figure size 432x288 with 1 Axes>"
      ]
     },
     "metadata": {
      "needs_background": "light"
     },
     "output_type": "display_data"
    }
   ],
   "source": [
    "#Frequency distribution of 'Salary status'\n",
    "sns.countplot(data_copy['SalStat'])\n",
    "data_copy['SalStat'].count\n",
    "pd.crosstab(index = data_copy['SalStat'],columns= 'count',dropna=True )\n",
    "## 75% of people's salary status is <= 50000 and 25% of people's salary status is >50000"
   ]
  },
  {
   "cell_type": "markdown",
   "id": "dbf4ccff",
   "metadata": {},
   "source": [
    "Here we can clearly look that our label data or target data is not balanced or we can say it's unbalanced and biased data ,and is biased to less than or equal to 50,000 by observing above figure. So here we have to do the sampling process for making it balanced. And we can do sampling by two method under_sampling and over_sampling, but here we will use over-sampling because under_sampling can be used for large amounts like millions of data.  "
   ]
  },
  {
   "cell_type": "markdown",
   "id": "fd0975af",
   "metadata": {},
   "source": [
    "# Data Re-sampling"
   ]
  },
  {
   "cell_type": "code",
   "execution_count": 39,
   "id": "54155020",
   "metadata": {},
   "outputs": [],
   "source": [
    "# Reindexing the salary status names to 0,1\n",
    "data_copy['SalStat']=data_copy['SalStat'].map({' less than or equal to 50,000':0,' greater than 50,000':1})\n",
    "\n",
    "# Converts all categorical variables into numerical type for better calculation by dividing the columns using categorical names \n",
    "new_data=pd.get_dummies(data_copy, drop_first=True)\n",
    "\n",
    "# Storing the column names\n",
    "columns_list=list(new_data.columns)\n",
    "\n",
    "# Separating the input names from data\n",
    "features = list(set(columns_list)-set(['SalStat']))"
   ]
  },
  {
   "cell_type": "code",
   "execution_count": 40,
   "id": "b72b11b7",
   "metadata": {},
   "outputs": [
    {
     "name": "stdout",
     "output_type": "stream",
     "text": [
      "data= (31971, 94)\n",
      "new data= (48552, 94)\n"
     ]
    },
    {
     "name": "stderr",
     "output_type": "stream",
     "text": [
      "C:\\Users\\user\\anaconda3\\lib\\site-packages\\seaborn\\_decorators.py:36: FutureWarning: Pass the following variable as a keyword arg: x. From version 0.12, the only valid positional argument will be `data`, and passing other arguments without an explicit keyword will result in an error or misinterpretation.\n",
      "  warnings.warn(\n"
     ]
    },
    {
     "data": {
      "text/plain": [
       "<AxesSubplot:xlabel='SalStat', ylabel='count'>"
      ]
     },
     "execution_count": 40,
     "metadata": {},
     "output_type": "execute_result"
    },
    {
     "data": {
      "image/png": "[encoded data removed]",
      "text/plain": [
       "<Figure size 432x288 with 1 Axes>"
      ]
     },
     "metadata": {
      "needs_background": "light"
     },
     "output_type": "display_data"
    }
   ],
   "source": [
    "# Here we will do over sampling using imbalanced leaning library\n",
    "from imblearn.over_sampling import SMOTE\n",
    "os=SMOTE(random_state=0)\n",
    "print('data=',new_data[features].shape)\n",
    "os_data_X,os_data_y=os.fit_resample(new_data[features],new_data['SalStat'])\n",
    "print('new data=',os_data_X.shape)\n",
    "sns.countplot(os_data_y)"
   ]
  },
  {
   "cell_type": "markdown",
   "id": "92dcecb9",
   "metadata": {},
   "source": [
    "# Feature Elimination using Recursive Feature Elimination(RFE)"
   ]
  },
  {
   "cell_type": "code",
   "execution_count": 41,
   "id": "47da0673",
   "metadata": {},
   "outputs": [
    {
     "name": "stdout",
     "output_type": "stream",
     "text": [
      "[ True False False  True  True  True False False  True  True False  True\n",
      " False  True False  True False  True False False  True  True False False\n",
      "  True  True  True  True False  True False False False  True  True  True\n",
      " False  True False False False  True False False  True  True  True  True\n",
      "  True  True False False False  True  True  True False False  True False\n",
      " False  True  True False False  True  True  True False False  True False\n",
      "  True False False False  True False False False False False  True  True\n",
      " False  True False  True  True  True  True  True  True  True]\n",
      "[ 1 11 33  1  1  1 42 25  1  1 20  1 36  1 30  1 38  1 16 27  1  1 41  9\n",
      "  1  1  1  1 35  1  7 31 23  1  1  1  3  1 15 14 19  1 18 17  1  1  1  1\n",
      "  1  1 44 26 43  1  1  1  5  6  1 29 37  1  1 28 24  1  1  1 13 22  1  4\n",
      "  1 21 39 40  1 10 45 34  8 32  1  1 12  1  2  1  1  1  1  1  1  1]\n",
      "['occupation_ Prof-specialty', 'occupation_ Machine-op-inspct', 'relationship_ Other-relative', 'EdType_ 9th', 'occupation_ Tech-support', 'maritalstatus_ Separated', 'relationship_ Not-in-family', 'race_ Black', 'EdType_ 5th-6th', 'JobType_ State-gov', 'occupation_ Farming-fishing', 'race_ White', 'EdType_ Bachelors', 'maritalstatus_ Married-civ-spouse', 'EdType_ 1st-4th', 'occupation_ Exec-managerial', 'EdType_ Masters', 'EdType_ 7th-8th', 'age', 'EdType_ Assoc-acdm', 'relationship_ Unmarried', 'EdType_ 12th', 'occupation_ Handlers-cleaners', 'occupation_ Craft-repair', 'capitalloss', 'EdType_ Prof-school', 'occupation_ Other-service', 'relationship_ Wife', 'occupation_ Sales', 'capitalgain', 'relationship_ Own-child', 'nativecountry_ United-States', 'occupation_ Transport-moving', 'JobType_ Local-gov', 'JobType_ Self-emp-inc', 'occupation_ Protective-serv', 'EdType_ Some-college', 'EdType_ HS-grad', 'EdType_ 11th', 'maritalstatus_ Never-married', 'JobType_ Private', 'EdType_ Doctorate', 'hoursperweek', 'gender_ Male', 'JobType_ Self-emp-not-inc', 'maritalstatus_ Married-spouse-absent', 'maritalstatus_ Widowed', 'race_ Asian-Pac-Islander', 'EdType_ Assoc-voc', 'nativecountry_ Mexico']\n"
     ]
    }
   ],
   "source": [
    "# Importing module\n",
    "from sklearn.feature_selection import RFE\n",
    "\n",
    "# Using Random Forest classifier and no.s of features selected by hit and trail method\n",
    "from sklearn.ensemble import RandomForestClassifier\n",
    "classifier= RandomForestClassifier(criterion=\"entropy\")\n",
    "rfe = RFE(estimator=classifier,n_features_to_select=50)\n",
    "rfe = rfe.fit(os_data_X, os_data_y.values.ravel())\n",
    "print(rfe.support_)\n",
    "print(rfe.ranking_)\n",
    "\n",
    "l=rfe.support_.tolist()\n",
    "_=os_data_X.columns.values.tolist()\n",
    "cols_to_select=[]\n",
    "for i in range(94):\n",
    "  if l[i]==True:\n",
    "    cols_to_select.append(_[i])\n",
    "print(cols_to_select)\n",
    "\n",
    "X=os_data_X[cols_to_select]\n",
    "y=os_data_y"
   ]
  },
  {
   "cell_type": "code",
   "execution_count": 47,
   "id": "54728ac3",
   "metadata": {},
   "outputs": [
    {
     "name": "stdout",
     "output_type": "stream",
     "text": [
      "Optimization terminated successfully.\n",
      "         Current function value: 0.299903\n",
      "         Iterations 9\n",
      "                           Logit Regression Results                           \n",
      "==============================================================================\n",
      "Dep. Variable:                SalStat   No. Observations:                48552\n",
      "Model:                          Logit   Df Residuals:                    48502\n",
      "Method:                           MLE   Df Model:                           49\n",
      "Date:                Wed, 29 Jun 2022   Pseudo R-squ.:                  0.5673\n",
      "Time:                        12:35:33   Log-Likelihood:                -14561.\n",
      "converged:                       True   LL-Null:                       -33654.\n",
      "Covariance Type:            nonrobust   LLR p-value:                     0.000\n",
      "========================================================================================================\n",
      "                                           coef    std err          z      P>|z|      [0.025      0.975]\n",
      "--------------------------------------------------------------------------------------------------------\n",
      "occupation_ Prof-specialty              -0.9962      0.052    -18.998      0.000      -1.099      -0.893\n",
      "occupation_ Machine-op-inspct           -1.8062      0.077    -23.527      0.000      -1.957      -1.656\n",
      "relationship_ Other-relative            -3.0951      0.212    -14.615      0.000      -3.510      -2.680\n",
      "EdType_ 9th                             -3.8441      0.229    -16.786      0.000      -4.293      -3.395\n",
      "occupation_ Tech-support                -0.8896      0.096     -9.279      0.000      -1.077      -0.702\n",
      "maritalstatus_ Separated                -0.4398      0.158     -2.779      0.005      -0.750      -0.130\n",
      "relationship_ Not-in-family             -2.3613      0.093    -25.344      0.000      -2.544      -2.179\n",
      "race_ Black                             -0.6095      0.101     -6.021      0.000      -0.808      -0.411\n",
      "EdType_ 5th-6th                         -3.8028      0.321    -11.842      0.000      -4.432      -3.173\n",
      "JobType_ State-gov                      -1.7616      0.099    -17.819      0.000      -1.955      -1.568\n",
      "occupation_ Farming-fishing             -3.1728      0.131    -24.222      0.000      -3.430      -2.916\n",
      "race_ White                              0.0604      0.076      0.792      0.428      -0.089       0.210\n",
      "EdType_ Bachelors                       -0.9373      0.059    -15.810      0.000      -1.053      -0.821\n",
      "maritalstatus_ Married-civ-spouse       -0.1010      0.082     -1.225      0.220      -0.263       0.061\n",
      "EdType_ 1st-4th                         -3.7039      0.476     -7.782      0.000      -4.637      -2.771\n",
      "occupation_ Exec-managerial             -0.5695      0.053    -10.699      0.000      -0.674      -0.465\n",
      "EdType_ Masters                         -0.6343      0.081     -7.841      0.000      -0.793      -0.476\n",
      "EdType_ 7th-8th                         -4.2871      0.197    -21.713      0.000      -4.674      -3.900\n",
      "age                                      0.0335      0.001     26.111      0.000       0.031       0.036\n",
      "EdType_ Assoc-acdm                      -2.1191      0.099    -21.388      0.000      -2.313      -1.925\n",
      "relationship_ Unmarried                 -2.9770      0.113    -26.365      0.000      -3.198      -2.756\n",
      "EdType_ 12th                            -3.1781      0.240    -13.234      0.000      -3.649      -2.707\n",
      "occupation_ Handlers-cleaners           -2.5443      0.127    -19.979      0.000      -2.794      -2.295\n",
      "occupation_ Craft-repair                -1.3435      0.053    -25.139      0.000      -1.448      -1.239\n",
      "capitalloss                              0.0005   3.56e-05     14.434      0.000       0.000       0.001\n",
      "EdType_ Prof-school                     -0.1860      0.137     -1.360      0.174      -0.454       0.082\n",
      "occupation_ Other-service               -2.6504      0.107    -24.730      0.000      -2.860      -2.440\n",
      "relationship_ Wife                       0.4172      0.077      5.420      0.000       0.266       0.568\n",
      "occupation_ Sales                       -1.1853      0.059    -20.152      0.000      -1.301      -1.070\n",
      "capitalgain                              0.0003   9.62e-06     30.477      0.000       0.000       0.000\n",
      "relationship_ Own-child                 -3.8673      0.162    -23.934      0.000      -4.184      -3.551\n",
      "nativecountry_ United-States             0.3939      0.062      6.373      0.000       0.273       0.515\n",
      "occupation_ Transport-moving            -1.9420      0.078    -24.806      0.000      -2.095      -1.789\n",
      "JobType_ Local-gov                      -1.4138      0.083    -17.127      0.000      -1.576      -1.252\n",
      "JobType_ Self-emp-inc                   -1.3391      0.098    -13.651      0.000      -1.531      -1.147\n",
      "occupation_ Protective-serv             -0.9030      0.111     -8.156      0.000      -1.120      -0.686\n",
      "EdType_ Some-college                    -1.9466      0.059    -33.117      0.000      -2.062      -1.831\n",
      "EdType_ HS-grad                         -2.1867      0.056    -38.909      0.000      -2.297      -2.077\n",
      "EdType_ 11th                            -3.4607      0.157    -22.023      0.000      -3.769      -3.153\n",
      "maritalstatus_ Never-married            -0.4715      0.070     -6.712      0.000      -0.609      -0.334\n",
      "JobType_ Private                        -0.9995      0.055    -18.100      0.000      -1.108      -0.891\n",
      "EdType_ Doctorate                       -0.0761      0.161     -0.472      0.637      -0.392       0.240\n",
      "hoursperweek                             0.0501      0.001     36.577      0.000       0.047       0.053\n",
      "gender_ Male                             0.4458      0.054      8.260      0.000       0.340       0.552\n",
      "JobType_ Self-emp-not-inc               -1.9031      0.079    -24.166      0.000      -2.057      -1.749\n",
      "maritalstatus_ Married-spouse-absent    -0.5210      0.229     -2.274      0.023      -0.970      -0.072\n",
      "maritalstatus_ Widowed                  -0.5988      0.145     -4.130      0.000      -0.883      -0.315\n",
      "race_ Asian-Pac-Islander                -0.2788      0.127     -2.187      0.029      -0.529      -0.029\n",
      "EdType_ Assoc-voc                       -1.9634      0.088    -22.410      0.000      -2.135      -1.792\n",
      "nativecountry_ Mexico                   -1.2124      0.237     -5.107      0.000      -1.678      -0.747\n",
      "========================================================================================================\n"
     ]
    }
   ],
   "source": [
    "import statsmodels.api as sm\n",
    "logit_model=sm.Logit(y,X)\n",
    "result=logit_model.fit()\n",
    "print(result.summary())"
   ]
  },
  {
   "cell_type": "code",
   "execution_count": 48,
   "id": "a23d3ac4",
   "metadata": {},
   "outputs": [
    {
     "data": {
      "text/html": [
       "<div>\n",
       "<style scoped>\n",
       "    .dataframe tbody tr th:only-of-type {\n",
       "        vertical-align: middle;\n",
       "    }\n",
       "\n",
       "    .dataframe tbody tr th {\n",
       "        vertical-align: top;\n",
       "    }\n",
       "\n",
       "    .dataframe thead th {\n",
       "        text-align: right;\n",
       "    }\n",
       "</style>\n",
       "<table border=\"1\" class=\"dataframe\">\n",
       "  <thead>\n",
       "    <tr style=\"text-align: right;\">\n",
       "      <th></th>\n",
       "      <th>occupation_ Prof-specialty</th>\n",
       "      <th>occupation_ Machine-op-inspct</th>\n",
       "      <th>relationship_ Other-relative</th>\n",
       "      <th>EdType_ 9th</th>\n",
       "      <th>occupation_ Tech-support</th>\n",
       "      <th>maritalstatus_ Separated</th>\n",
       "      <th>relationship_ Not-in-family</th>\n",
       "      <th>race_ Black</th>\n",
       "      <th>EdType_ 5th-6th</th>\n",
       "      <th>JobType_ State-gov</th>\n",
       "      <th>...</th>\n",
       "      <th>JobType_ Private</th>\n",
       "      <th>EdType_ Doctorate</th>\n",
       "      <th>hoursperweek</th>\n",
       "      <th>gender_ Male</th>\n",
       "      <th>JobType_ Self-emp-not-inc</th>\n",
       "      <th>maritalstatus_ Married-spouse-absent</th>\n",
       "      <th>maritalstatus_ Widowed</th>\n",
       "      <th>race_ Asian-Pac-Islander</th>\n",
       "      <th>EdType_ Assoc-voc</th>\n",
       "      <th>nativecountry_ Mexico</th>\n",
       "    </tr>\n",
       "  </thead>\n",
       "  <tbody>\n",
       "    <tr>\n",
       "      <th>0</th>\n",
       "      <td>0</td>\n",
       "      <td>0</td>\n",
       "      <td>0</td>\n",
       "      <td>0</td>\n",
       "      <td>0</td>\n",
       "      <td>0</td>\n",
       "      <td>1</td>\n",
       "      <td>0</td>\n",
       "      <td>0</td>\n",
       "      <td>0</td>\n",
       "      <td>...</td>\n",
       "      <td>1</td>\n",
       "      <td>0</td>\n",
       "      <td>28</td>\n",
       "      <td>0</td>\n",
       "      <td>0</td>\n",
       "      <td>0</td>\n",
       "      <td>0</td>\n",
       "      <td>0</td>\n",
       "      <td>0</td>\n",
       "      <td>0</td>\n",
       "    </tr>\n",
       "    <tr>\n",
       "      <th>1</th>\n",
       "      <td>0</td>\n",
       "      <td>0</td>\n",
       "      <td>0</td>\n",
       "      <td>0</td>\n",
       "      <td>0</td>\n",
       "      <td>0</td>\n",
       "      <td>0</td>\n",
       "      <td>0</td>\n",
       "      <td>0</td>\n",
       "      <td>0</td>\n",
       "      <td>...</td>\n",
       "      <td>0</td>\n",
       "      <td>0</td>\n",
       "      <td>40</td>\n",
       "      <td>1</td>\n",
       "      <td>0</td>\n",
       "      <td>0</td>\n",
       "      <td>0</td>\n",
       "      <td>0</td>\n",
       "      <td>0</td>\n",
       "      <td>0</td>\n",
       "    </tr>\n",
       "    <tr>\n",
       "      <th>2</th>\n",
       "      <td>1</td>\n",
       "      <td>0</td>\n",
       "      <td>0</td>\n",
       "      <td>0</td>\n",
       "      <td>0</td>\n",
       "      <td>0</td>\n",
       "      <td>0</td>\n",
       "      <td>0</td>\n",
       "      <td>0</td>\n",
       "      <td>0</td>\n",
       "      <td>...</td>\n",
       "      <td>1</td>\n",
       "      <td>0</td>\n",
       "      <td>40</td>\n",
       "      <td>1</td>\n",
       "      <td>0</td>\n",
       "      <td>0</td>\n",
       "      <td>0</td>\n",
       "      <td>0</td>\n",
       "      <td>0</td>\n",
       "      <td>0</td>\n",
       "    </tr>\n",
       "    <tr>\n",
       "      <th>3</th>\n",
       "      <td>0</td>\n",
       "      <td>0</td>\n",
       "      <td>1</td>\n",
       "      <td>1</td>\n",
       "      <td>0</td>\n",
       "      <td>0</td>\n",
       "      <td>0</td>\n",
       "      <td>0</td>\n",
       "      <td>0</td>\n",
       "      <td>0</td>\n",
       "      <td>...</td>\n",
       "      <td>1</td>\n",
       "      <td>0</td>\n",
       "      <td>40</td>\n",
       "      <td>1</td>\n",
       "      <td>0</td>\n",
       "      <td>0</td>\n",
       "      <td>0</td>\n",
       "      <td>0</td>\n",
       "      <td>0</td>\n",
       "      <td>1</td>\n",
       "    </tr>\n",
       "    <tr>\n",
       "      <th>4</th>\n",
       "      <td>0</td>\n",
       "      <td>0</td>\n",
       "      <td>0</td>\n",
       "      <td>0</td>\n",
       "      <td>0</td>\n",
       "      <td>0</td>\n",
       "      <td>1</td>\n",
       "      <td>0</td>\n",
       "      <td>0</td>\n",
       "      <td>0</td>\n",
       "      <td>...</td>\n",
       "      <td>1</td>\n",
       "      <td>0</td>\n",
       "      <td>35</td>\n",
       "      <td>1</td>\n",
       "      <td>0</td>\n",
       "      <td>0</td>\n",
       "      <td>0</td>\n",
       "      <td>0</td>\n",
       "      <td>0</td>\n",
       "      <td>0</td>\n",
       "    </tr>\n",
       "  </tbody>\n",
       "</table>\n",
       "<p>5 rows × 50 columns</p>\n",
       "</div>"
      ],
      "text/plain": [
       "   occupation_ Prof-specialty  occupation_ Machine-op-inspct  \\\n",
       "0                           0                              0   \n",
       "1                           0                              0   \n",
       "2                           1                              0   \n",
       "3                           0                              0   \n",
       "4                           0                              0   \n",
       "\n",
       "   relationship_ Other-relative  EdType_ 9th  occupation_ Tech-support  \\\n",
       "0                             0            0                         0   \n",
       "1                             0            0                         0   \n",
       "2                             0            0                         0   \n",
       "3                             1            1                         0   \n",
       "4                             0            0                         0   \n",
       "\n",
       "   maritalstatus_ Separated  relationship_ Not-in-family  race_ Black  \\\n",
       "0                         0                            1            0   \n",
       "1                         0                            0            0   \n",
       "2                         0                            0            0   \n",
       "3                         0                            0            0   \n",
       "4                         0                            1            0   \n",
       "\n",
       "   EdType_ 5th-6th  JobType_ State-gov  ...  JobType_ Private  \\\n",
       "0                0                   0  ...                 1   \n",
       "1                0                   0  ...                 0   \n",
       "2                0                   0  ...                 1   \n",
       "3                0                   0  ...                 1   \n",
       "4                0                   0  ...                 1   \n",
       "\n",
       "   EdType_ Doctorate  hoursperweek  gender_ Male  JobType_ Self-emp-not-inc  \\\n",
       "0                  0            28             0                          0   \n",
       "1                  0            40             1                          0   \n",
       "2                  0            40             1                          0   \n",
       "3                  0            40             1                          0   \n",
       "4                  0            35             1                          0   \n",
       "\n",
       "   maritalstatus_ Married-spouse-absent  maritalstatus_ Widowed  \\\n",
       "0                                     0                       0   \n",
       "1                                     0                       0   \n",
       "2                                     0                       0   \n",
       "3                                     0                       0   \n",
       "4                                     0                       0   \n",
       "\n",
       "   race_ Asian-Pac-Islander  EdType_ Assoc-voc  nativecountry_ Mexico  \n",
       "0                         0                  0                      0  \n",
       "1                         0                  0                      0  \n",
       "2                         0                  0                      0  \n",
       "3                         0                  0                      1  \n",
       "4                         0                  0                      0  \n",
       "\n",
       "[5 rows x 50 columns]"
      ]
     },
     "execution_count": 48,
     "metadata": {},
     "output_type": "execute_result"
    }
   ],
   "source": [
    "X.head()"
   ]
  },
  {
   "cell_type": "code",
   "execution_count": 49,
   "id": "92991f02",
   "metadata": {},
   "outputs": [
    {
     "data": {
      "text/plain": [
       "0    0\n",
       "1    0\n",
       "2    1\n",
       "3    0\n",
       "4    0\n",
       "Name: SalStat, dtype: int64"
      ]
     },
     "execution_count": 49,
     "metadata": {},
     "output_type": "execute_result"
    }
   ],
   "source": [
    "y.head()"
   ]
  },
  {
   "cell_type": "code",
   "execution_count": 50,
   "id": "1f9e1629",
   "metadata": {},
   "outputs": [],
   "source": [
    "# Splitting the data into train and test\n",
    "train_x,test_x,train_y,test_y = train_test_split(X,y,test_size=0.3, random_state=0)"
   ]
  },
  {
   "cell_type": "markdown",
   "id": "abc88af4",
   "metadata": {},
   "source": [
    "# Logistic Regression"
   ]
  },
  {
   "cell_type": "code",
   "execution_count": 62,
   "id": "76029588",
   "metadata": {},
   "outputs": [],
   "source": [
    "from sklearn.linear_model import LogisticRegression\n",
    "logreg = LogisticRegression(solver='liblinear',n_jobs=1)\n",
    "logreg.fit(train_x,train_y)\n",
    "logreg_pred = logreg.predict(test_x)"
   ]
  },
  {
   "cell_type": "code",
   "execution_count": 63,
   "id": "97f01f62",
   "metadata": {},
   "outputs": [
    {
     "data": {
      "text/plain": [
       "0.8589180282850474"
      ]
     },
     "execution_count": 63,
     "metadata": {},
     "output_type": "execute_result"
    }
   ],
   "source": [
    "accuracy_score(test_y,logreg_pred)"
   ]
  },
  {
   "cell_type": "code",
   "execution_count": 64,
   "id": "d0d04e48",
   "metadata": {},
   "outputs": [
    {
     "data": {
      "text/plain": [
       "array([[6123, 1177],\n",
       "       [ 878, 6388]], dtype=int64)"
      ]
     },
     "execution_count": 64,
     "metadata": {},
     "output_type": "execute_result"
    }
   ],
   "source": [
    "confusion_matrix(test_y, logreg_pred)"
   ]
  },
  {
   "cell_type": "code",
   "execution_count": 65,
   "id": "52c9c5ae",
   "metadata": {},
   "outputs": [
    {
     "data": {
      "text/html": [
       "<div>\n",
       "<style scoped>\n",
       "    .dataframe tbody tr th:only-of-type {\n",
       "        vertical-align: middle;\n",
       "    }\n",
       "\n",
       "    .dataframe tbody tr th {\n",
       "        vertical-align: top;\n",
       "    }\n",
       "\n",
       "    .dataframe thead th {\n",
       "        text-align: right;\n",
       "    }\n",
       "</style>\n",
       "<table border=\"1\" class=\"dataframe\">\n",
       "  <thead>\n",
       "    <tr style=\"text-align: right;\">\n",
       "      <th>Predicted</th>\n",
       "      <th>0</th>\n",
       "      <th>1</th>\n",
       "      <th>All</th>\n",
       "    </tr>\n",
       "    <tr>\n",
       "      <th>Actual</th>\n",
       "      <th></th>\n",
       "      <th></th>\n",
       "      <th></th>\n",
       "    </tr>\n",
       "  </thead>\n",
       "  <tbody>\n",
       "    <tr>\n",
       "      <th>0</th>\n",
       "      <td>6123</td>\n",
       "      <td>1177</td>\n",
       "      <td>7300</td>\n",
       "    </tr>\n",
       "    <tr>\n",
       "      <th>1</th>\n",
       "      <td>878</td>\n",
       "      <td>6388</td>\n",
       "      <td>7266</td>\n",
       "    </tr>\n",
       "    <tr>\n",
       "      <th>All</th>\n",
       "      <td>7001</td>\n",
       "      <td>7565</td>\n",
       "      <td>14566</td>\n",
       "    </tr>\n",
       "  </tbody>\n",
       "</table>\n",
       "</div>"
      ],
      "text/plain": [
       "Predicted     0     1    All\n",
       "Actual                      \n",
       "0          6123  1177   7300\n",
       "1           878  6388   7266\n",
       "All        7001  7565  14566"
      ]
     },
     "execution_count": 65,
     "metadata": {},
     "output_type": "execute_result"
    }
   ],
   "source": [
    "pd.crosstab(test_y, logreg_pred, rownames = ['Actual'], colnames =['Predicted'], margins = True)"
   ]
  },
  {
   "cell_type": "code",
   "execution_count": 66,
   "id": "ed6a1f0c",
   "metadata": {},
   "outputs": [
    {
     "name": "stdout",
     "output_type": "stream",
     "text": [
      "Misclassified samples: 2055\n"
     ]
    }
   ],
   "source": [
    "# Printing the misclassified values from prediction\n",
    "print('Misclassified samples: %d' % (test_y != logreg_pred).sum())"
   ]
  },
  {
   "cell_type": "code",
   "execution_count": 67,
   "id": "306f32c4",
   "metadata": {},
   "outputs": [
    {
     "name": "stdout",
     "output_type": "stream",
     "text": [
      "              precision    recall  f1-score   support\n",
      "\n",
      "           0       0.87      0.84      0.86      7300\n",
      "           1       0.84      0.88      0.86      7266\n",
      "\n",
      "    accuracy                           0.86     14566\n",
      "   macro avg       0.86      0.86      0.86     14566\n",
      "weighted avg       0.86      0.86      0.86     14566\n",
      "\n"
     ]
    }
   ],
   "source": [
    "print(classification_report(test_y, logreg_pred))"
   ]
  },
  {
   "cell_type": "code",
   "execution_count": 68,
   "id": "95af8c09",
   "metadata": {},
   "outputs": [
    {
     "data": {
      "image/png": "[encoded data removed]",
      "text/plain": [
       "<Figure size 432x288 with 1 Axes>"
      ]
     },
     "metadata": {
      "needs_background": "light"
     },
     "output_type": "display_data"
    }
   ],
   "source": [
    "from sklearn.metrics import roc_auc_score\n",
    "from sklearn.metrics import roc_curve\n",
    "logit_roc_auc = roc_auc_score(test_y, logreg.predict(test_x))\n",
    "fpr, tpr, thresholds = roc_curve(test_y, logreg.predict_proba(test_x)[:,1])\n",
    "plt.figure()\n",
    "plt.plot(fpr, tpr, label='Logistic Regression (area = %0.4f)'% logit_roc_auc)\n",
    "plt.plot([0, 1], [0, 1],'r--')\n",
    "plt.xlim([0.0, 1.0])\n",
    "plt.ylim([0.0, 1.05])\n",
    "plt.xlabel('False Positive Rate')\n",
    "plt.ylabel('True Positive Rate')\n",
    "plt.title('Receiver operating characteristic')\n",
    "plt.legend(loc=\"lower right\")\n",
    "plt.savefig('Log_ROC')\n",
    "plt.show()"
   ]
  },
  {
   "cell_type": "markdown",
   "id": "11f34c31",
   "metadata": {},
   "source": [
    "# K-Nearest Neighbourhood"
   ]
  },
  {
   "cell_type": "code",
   "execution_count": 58,
   "id": "b50d7293",
   "metadata": {},
   "outputs": [],
   "source": [
    "# importing the library of KNN\n",
    "from sklearn.neighbors import KNeighborsClassifier"
   ]
  },
  {
   "cell_type": "code",
   "execution_count": 59,
   "id": "70af0834",
   "metadata": {},
   "outputs": [
    {
     "data": {
      "text/plain": [
       "Text(0, 0.5, 'Accuracy_rate')"
      ]
     },
     "execution_count": 59,
     "metadata": {},
     "output_type": "execute_result"
    },
    {
     "data": {
      "image/png": "[encoded data removed]",
      "text/plain": [
       "<Figure size 720x432 with 1 Axes>"
      ]
     },
     "metadata": {
      "needs_background": "light"
     },
     "output_type": "display_data"
    }
   ],
   "source": [
    "# Checking for i value for which KNN gives maximum accuracy\n",
    "accuracy_rate = []\n",
    "for i in range(1,20):\n",
    "    KNN_classifier = KNeighborsClassifier(n_neighbors = i)\n",
    "    KNN_classifier.fit(train_x, train_y)\n",
    "    KNN_pred = KNN_classifier.predict(test_x)\n",
    "    accuracy_score_copy = accuracy_score(test_y, KNN_pred)\n",
    "    accuracy_rate.append(accuracy_score_copy)\n",
    "plt.figure(figsize=(10,6))\n",
    "plt.plot(range(1,20),accuracy_rate,color='blue',linestyle='dashed',marker='o',markerfacecolor='red',markersize=10)\n",
    "plt.title('Accuracy_rate vs K values')\n",
    "plt.xlabel('K')\n",
    "plt.ylabel('Accuracy_rate')\n",
    "# For i=2 knn algorithm gives highest accuracy"
   ]
  },
  {
   "cell_type": "code",
   "execution_count": 60,
   "id": "41d4a597",
   "metadata": {},
   "outputs": [],
   "source": [
    "# Storing the k nearest neighbors classifier\n",
    "KNN_classifier = KNeighborsClassifier(n_neighbors = 2)\n",
    "\n",
    "# Fitting the values for X and Y\n",
    "KNN_classifier.fit(train_x, train_y) \n",
    "\n",
    "# Prediction the test values with model\n",
    "KNN_pred = KNN_classifier.predict(test_x)"
   ]
  },
  {
   "cell_type": "code",
   "execution_count": 69,
   "id": "b7f58aa4",
   "metadata": {},
   "outputs": [
    {
     "data": {
      "text/plain": [
       "0.8604970479198133"
      ]
     },
     "execution_count": 69,
     "metadata": {},
     "output_type": "execute_result"
    }
   ],
   "source": [
    "accuracy_score(test_y, KNN_pred)"
   ]
  },
  {
   "cell_type": "code",
   "execution_count": 70,
   "id": "cd761b55",
   "metadata": {},
   "outputs": [
    {
     "data": {
      "text/plain": [
       "array([[6224, 1076],\n",
       "       [ 956, 6310]], dtype=int64)"
      ]
     },
     "execution_count": 70,
     "metadata": {},
     "output_type": "execute_result"
    }
   ],
   "source": [
    "confusion_matrix(test_y, KNN_pred)"
   ]
  },
  {
   "cell_type": "code",
   "execution_count": 71,
   "id": "cce3d7ef",
   "metadata": {},
   "outputs": [
    {
     "data": {
      "text/html": [
       "<div>\n",
       "<style scoped>\n",
       "    .dataframe tbody tr th:only-of-type {\n",
       "        vertical-align: middle;\n",
       "    }\n",
       "\n",
       "    .dataframe tbody tr th {\n",
       "        vertical-align: top;\n",
       "    }\n",
       "\n",
       "    .dataframe thead th {\n",
       "        text-align: right;\n",
       "    }\n",
       "</style>\n",
       "<table border=\"1\" class=\"dataframe\">\n",
       "  <thead>\n",
       "    <tr style=\"text-align: right;\">\n",
       "      <th>Predicted</th>\n",
       "      <th>0</th>\n",
       "      <th>1</th>\n",
       "      <th>All</th>\n",
       "    </tr>\n",
       "    <tr>\n",
       "      <th>Actual</th>\n",
       "      <th></th>\n",
       "      <th></th>\n",
       "      <th></th>\n",
       "    </tr>\n",
       "  </thead>\n",
       "  <tbody>\n",
       "    <tr>\n",
       "      <th>0</th>\n",
       "      <td>6224</td>\n",
       "      <td>1076</td>\n",
       "      <td>7300</td>\n",
       "    </tr>\n",
       "    <tr>\n",
       "      <th>1</th>\n",
       "      <td>956</td>\n",
       "      <td>6310</td>\n",
       "      <td>7266</td>\n",
       "    </tr>\n",
       "    <tr>\n",
       "      <th>All</th>\n",
       "      <td>7180</td>\n",
       "      <td>7386</td>\n",
       "      <td>14566</td>\n",
       "    </tr>\n",
       "  </tbody>\n",
       "</table>\n",
       "</div>"
      ],
      "text/plain": [
       "Predicted     0     1    All\n",
       "Actual                      \n",
       "0          6224  1076   7300\n",
       "1           956  6310   7266\n",
       "All        7180  7386  14566"
      ]
     },
     "execution_count": 71,
     "metadata": {},
     "output_type": "execute_result"
    }
   ],
   "source": [
    "pd.crosstab(test_y, KNN_pred, rownames = ['Actual'], colnames =['Predicted'], margins = True)"
   ]
  },
  {
   "cell_type": "code",
   "execution_count": 72,
   "id": "020e533d",
   "metadata": {},
   "outputs": [
    {
     "name": "stdout",
     "output_type": "stream",
     "text": [
      "Misclassified samples: 2032\n"
     ]
    }
   ],
   "source": [
    "# Printing the misclassified values from prediction\n",
    "print('Misclassified samples: %d' % (test_y != KNN_pred).sum())"
   ]
  },
  {
   "cell_type": "code",
   "execution_count": 73,
   "id": "265bc436",
   "metadata": {},
   "outputs": [
    {
     "name": "stdout",
     "output_type": "stream",
     "text": [
      "              precision    recall  f1-score   support\n",
      "\n",
      "           0       0.87      0.85      0.86      7300\n",
      "           1       0.85      0.87      0.86      7266\n",
      "\n",
      "    accuracy                           0.86     14566\n",
      "   macro avg       0.86      0.86      0.86     14566\n",
      "weighted avg       0.86      0.86      0.86     14566\n",
      "\n"
     ]
    }
   ],
   "source": [
    "print(classification_report(test_y, KNN_pred))"
   ]
  },
  {
   "cell_type": "code",
   "execution_count": 74,
   "id": "62544d00",
   "metadata": {},
   "outputs": [
    {
     "data": {
      "image/png": "[encoded data removed]",
      "text/plain": [
       "<Figure size 432x288 with 1 Axes>"
      ]
     },
     "metadata": {
      "needs_background": "light"
     },
     "output_type": "display_data"
    }
   ],
   "source": [
    "KNN_classifier_roc_auc = roc_auc_score(test_y, KNN_classifier.predict(test_x))\n",
    "fpr, tpr, thresholds = roc_curve(test_y, KNN_classifier.predict_proba(test_x)[:,1])\n",
    "plt.figure()\n",
    "plt.plot(fpr, tpr, label='KNN_classifier (area = %0.4f)'% KNN_classifier_roc_auc)\n",
    "plt.plot([0, 1], [0, 1],'r--')\n",
    "plt.xlim([0.0, 1.0])\n",
    "plt.ylim([0.0, 1.05])\n",
    "plt.xlabel('False Positive Rate')\n",
    "plt.ylabel('True Positive Rate')\n",
    "plt.title('Receiver operating characteristic')\n",
    "plt.legend(loc=\"lower right\")\n",
    "plt.savefig('KNN_classifier_ROC')\n",
    "plt.show()"
   ]
  },
  {
   "cell_type": "markdown",
   "id": "48a74be0",
   "metadata": {},
   "source": [
    "# Decision Tree"
   ]
  },
  {
   "cell_type": "code",
   "execution_count": 77,
   "id": "989d5e0a",
   "metadata": {},
   "outputs": [],
   "source": [
    "from sklearn.tree import DecisionTreeClassifier\n",
    "DT_classifier= DecisionTreeClassifier(criterion='entropy', random_state=0)  \n",
    "DT_classifier.fit(train_x, train_y)\n",
    "DT_pred = DT_classifier.predict(test_x)"
   ]
  },
  {
   "cell_type": "code",
   "execution_count": 78,
   "id": "35ac649c",
   "metadata": {},
   "outputs": [
    {
     "data": {
      "text/plain": [
       "0.8689413703144309"
      ]
     },
     "execution_count": 78,
     "metadata": {},
     "output_type": "execute_result"
    }
   ],
   "source": [
    "accuracy_score(test_y, DT_pred)"
   ]
  },
  {
   "cell_type": "code",
   "execution_count": 79,
   "id": "ee3fbc5c",
   "metadata": {},
   "outputs": [
    {
     "data": {
      "text/plain": [
       "array([[6235, 1065],\n",
       "       [ 844, 6422]], dtype=int64)"
      ]
     },
     "execution_count": 79,
     "metadata": {},
     "output_type": "execute_result"
    }
   ],
   "source": [
    "confusion_matrix(test_y, DT_pred)"
   ]
  },
  {
   "cell_type": "code",
   "execution_count": 80,
   "id": "b1ea834e",
   "metadata": {},
   "outputs": [
    {
     "data": {
      "text/html": [
       "<div>\n",
       "<style scoped>\n",
       "    .dataframe tbody tr th:only-of-type {\n",
       "        vertical-align: middle;\n",
       "    }\n",
       "\n",
       "    .dataframe tbody tr th {\n",
       "        vertical-align: top;\n",
       "    }\n",
       "\n",
       "    .dataframe thead th {\n",
       "        text-align: right;\n",
       "    }\n",
       "</style>\n",
       "<table border=\"1\" class=\"dataframe\">\n",
       "  <thead>\n",
       "    <tr style=\"text-align: right;\">\n",
       "      <th>Predicted</th>\n",
       "      <th>0</th>\n",
       "      <th>1</th>\n",
       "      <th>All</th>\n",
       "    </tr>\n",
       "    <tr>\n",
       "      <th>Actual</th>\n",
       "      <th></th>\n",
       "      <th></th>\n",
       "      <th></th>\n",
       "    </tr>\n",
       "  </thead>\n",
       "  <tbody>\n",
       "    <tr>\n",
       "      <th>0</th>\n",
       "      <td>6235</td>\n",
       "      <td>1065</td>\n",
       "      <td>7300</td>\n",
       "    </tr>\n",
       "    <tr>\n",
       "      <th>1</th>\n",
       "      <td>844</td>\n",
       "      <td>6422</td>\n",
       "      <td>7266</td>\n",
       "    </tr>\n",
       "    <tr>\n",
       "      <th>All</th>\n",
       "      <td>7079</td>\n",
       "      <td>7487</td>\n",
       "      <td>14566</td>\n",
       "    </tr>\n",
       "  </tbody>\n",
       "</table>\n",
       "</div>"
      ],
      "text/plain": [
       "Predicted     0     1    All\n",
       "Actual                      \n",
       "0          6235  1065   7300\n",
       "1           844  6422   7266\n",
       "All        7079  7487  14566"
      ]
     },
     "execution_count": 80,
     "metadata": {},
     "output_type": "execute_result"
    }
   ],
   "source": [
    "pd.crosstab(test_y, DT_pred, rownames = ['Actual'], colnames =['Predicted'], margins = True)"
   ]
  },
  {
   "cell_type": "code",
   "execution_count": 81,
   "id": "401163e4",
   "metadata": {},
   "outputs": [
    {
     "name": "stdout",
     "output_type": "stream",
     "text": [
      "Misclassified samples: 1909\n"
     ]
    }
   ],
   "source": [
    "# Printing the misclassified values from prediction\n",
    "print('Misclassified samples: %d' % (test_y != DT_pred).sum())"
   ]
  },
  {
   "cell_type": "code",
   "execution_count": 82,
   "id": "461053b9",
   "metadata": {},
   "outputs": [
    {
     "name": "stdout",
     "output_type": "stream",
     "text": [
      "              precision    recall  f1-score   support\n",
      "\n",
      "           0       0.88      0.85      0.87      7300\n",
      "           1       0.86      0.88      0.87      7266\n",
      "\n",
      "    accuracy                           0.87     14566\n",
      "   macro avg       0.87      0.87      0.87     14566\n",
      "weighted avg       0.87      0.87      0.87     14566\n",
      "\n"
     ]
    }
   ],
   "source": [
    "print(classification_report(test_y, DT_pred))"
   ]
  },
  {
   "cell_type": "code",
   "execution_count": 83,
   "id": "1ffa8b51",
   "metadata": {},
   "outputs": [
    {
     "data": {
      "image/png": "[encoded data removed]",
      "text/plain": [
       "<Figure size 432x288 with 1 Axes>"
      ]
     },
     "metadata": {
      "needs_background": "light"
     },
     "output_type": "display_data"
    }
   ],
   "source": [
    "DT_model_roc_auc = roc_auc_score(test_y, DT_classifier.predict(test_x))\n",
    "fpr, tpr, thresholds = roc_curve(test_y, DT_classifier.predict_proba(test_x)[:,1])\n",
    "plt.figure()\n",
    "plt.plot(fpr, tpr, label='DT_model (area = %0.4f)'% DT_model_roc_auc)\n",
    "plt.plot([0, 1], [0, 1],'r--')\n",
    "plt.xlim([0.0, 1.0])\n",
    "plt.ylim([0.0, 1.05])\n",
    "plt.xlabel('False Positive Rate')\n",
    "plt.ylabel('True Positive Rate')\n",
    "plt.title('Receiver operating characteristic')\n",
    "plt.legend(loc=\"lower right\")\n",
    "plt.savefig('DT_model_ROC')\n",
    "plt.show()"
   ]
  },
  {
   "cell_type": "markdown",
   "id": "47e528a4",
   "metadata": {},
   "source": [
    "# Random Forest"
   ]
  },
  {
   "cell_type": "code",
   "execution_count": 110,
   "id": "bae9f7e8",
   "metadata": {},
   "outputs": [],
   "source": [
    "from sklearn.ensemble import RandomForestClassifier\n",
    "RF_classifier= RandomForestClassifier(criterion=\"entropy\")  \n",
    "RF_classifier.fit(train_x, train_y)\n",
    "RF_pred = RF_classifier.predict(test_x)"
   ]
  },
  {
   "cell_type": "code",
   "execution_count": 111,
   "id": "c307ea29",
   "metadata": {},
   "outputs": [
    {
     "data": {
      "text/plain": [
       "0.8935878072222985"
      ]
     },
     "execution_count": 111,
     "metadata": {},
     "output_type": "execute_result"
    }
   ],
   "source": [
    "accuracy_score(test_y, RF_pred)"
   ]
  },
  {
   "cell_type": "code",
   "execution_count": 112,
   "id": "d48b128c",
   "metadata": {},
   "outputs": [
    {
     "data": {
      "text/plain": [
       "array([[6476,  824],\n",
       "       [ 726, 6540]], dtype=int64)"
      ]
     },
     "execution_count": 112,
     "metadata": {},
     "output_type": "execute_result"
    }
   ],
   "source": [
    "confusion_matrix(test_y, RF_pred)"
   ]
  },
  {
   "cell_type": "code",
   "execution_count": 113,
   "id": "b103873c",
   "metadata": {},
   "outputs": [
    {
     "data": {
      "text/html": [
       "<div>\n",
       "<style scoped>\n",
       "    .dataframe tbody tr th:only-of-type {\n",
       "        vertical-align: middle;\n",
       "    }\n",
       "\n",
       "    .dataframe tbody tr th {\n",
       "        vertical-align: top;\n",
       "    }\n",
       "\n",
       "    .dataframe thead th {\n",
       "        text-align: right;\n",
       "    }\n",
       "</style>\n",
       "<table border=\"1\" class=\"dataframe\">\n",
       "  <thead>\n",
       "    <tr style=\"text-align: right;\">\n",
       "      <th>Predicted</th>\n",
       "      <th>0</th>\n",
       "      <th>1</th>\n",
       "      <th>All</th>\n",
       "    </tr>\n",
       "    <tr>\n",
       "      <th>Actual</th>\n",
       "      <th></th>\n",
       "      <th></th>\n",
       "      <th></th>\n",
       "    </tr>\n",
       "  </thead>\n",
       "  <tbody>\n",
       "    <tr>\n",
       "      <th>0</th>\n",
       "      <td>6476</td>\n",
       "      <td>824</td>\n",
       "      <td>7300</td>\n",
       "    </tr>\n",
       "    <tr>\n",
       "      <th>1</th>\n",
       "      <td>726</td>\n",
       "      <td>6540</td>\n",
       "      <td>7266</td>\n",
       "    </tr>\n",
       "    <tr>\n",
       "      <th>All</th>\n",
       "      <td>7202</td>\n",
       "      <td>7364</td>\n",
       "      <td>14566</td>\n",
       "    </tr>\n",
       "  </tbody>\n",
       "</table>\n",
       "</div>"
      ],
      "text/plain": [
       "Predicted     0     1    All\n",
       "Actual                      \n",
       "0          6476   824   7300\n",
       "1           726  6540   7266\n",
       "All        7202  7364  14566"
      ]
     },
     "execution_count": 113,
     "metadata": {},
     "output_type": "execute_result"
    }
   ],
   "source": [
    "pd.crosstab(test_y, RF_pred, rownames = ['Actual'], colnames =['Predicted'], margins = True)"
   ]
  },
  {
   "cell_type": "code",
   "execution_count": 114,
   "id": "6edcad85",
   "metadata": {},
   "outputs": [
    {
     "name": "stdout",
     "output_type": "stream",
     "text": [
      "Misclassified samples: 1550\n"
     ]
    }
   ],
   "source": [
    "# Printing the misclassified values from prediction\n",
    "print('Misclassified samples: %d' % (test_y != RF_pred).sum())"
   ]
  },
  {
   "cell_type": "code",
   "execution_count": 115,
   "id": "62629a4b",
   "metadata": {},
   "outputs": [
    {
     "name": "stdout",
     "output_type": "stream",
     "text": [
      "              precision    recall  f1-score   support\n",
      "\n",
      "           0       0.90      0.89      0.89      7300\n",
      "           1       0.89      0.90      0.89      7266\n",
      "\n",
      "    accuracy                           0.89     14566\n",
      "   macro avg       0.89      0.89      0.89     14566\n",
      "weighted avg       0.89      0.89      0.89     14566\n",
      "\n"
     ]
    }
   ],
   "source": [
    "print(classification_report(test_y, RF_pred))"
   ]
  },
  {
   "cell_type": "code",
   "execution_count": 116,
   "id": "cdb0c3fe",
   "metadata": {},
   "outputs": [
    {
     "data": {
      "image/png": "[encoded data removed]",
      "text/plain": [
       "<Figure size 432x288 with 1 Axes>"
      ]
     },
     "metadata": {
      "needs_background": "light"
     },
     "output_type": "display_data"
    }
   ],
   "source": [
    "RF_model_roc_auc = roc_auc_score(test_y, RF_classifier.predict(test_x))\n",
    "fpr, tpr, thresholds = roc_curve(test_y, RF_classifier.predict_proba(test_x)[:,1])\n",
    "plt.figure()\n",
    "plt.plot(fpr, tpr, label='RF_model (area = %0.4f)'% RF_model_roc_auc)\n",
    "plt.plot([0, 1], [0, 1],'r--')\n",
    "plt.xlim([0.0, 1.0])\n",
    "plt.ylim([0.0, 1.05])\n",
    "plt.xlabel('False Positive Rate')\n",
    "plt.ylabel('True Positive Rate')\n",
    "plt.title('Receiver operating characteristic')\n",
    "plt.legend(loc=\"lower right\")\n",
    "plt.savefig('RF_model_ROC')\n",
    "plt.show()"
   ]
  },
  {
   "cell_type": "markdown",
   "id": "49beb353",
   "metadata": {},
   "source": [
    "# Accuracy with missing values and without using re-sampling and RFE "
   ]
  },
  {
   "cell_type": "code",
   "execution_count": 122,
   "id": "2d7a8207",
   "metadata": {},
   "outputs": [
    {
     "data": {
      "image/png": "[encoded data removed]",
      "text/plain": [
       "<Figure size 432x288 with 1 Axes>"
      ]
     },
     "metadata": {
      "needs_background": "light"
     },
     "output_type": "display_data"
    }
   ],
   "source": [
    "from matplotlib import pyplot as plt    \n",
    "Names = ['LOGISTIC','KNN','DT','RANDOM FOREST']    \n",
    "Marks = [0.85,0.85,0.81,0.84]    \n",
    "plt.bar(Names,Marks,color = 'blue')    \n",
    "plt.title('Result')    \n",
    "plt.xlabel('ALGORITHM')    \n",
    "plt.ylabel('ACCURACY')    \n",
    "plt.show()"
   ]
  },
  {
   "cell_type": "markdown",
   "id": "8221fe77",
   "metadata": {},
   "source": [
    "                       Figure-1"
   ]
  },
  {
   "cell_type": "markdown",
   "id": "0f6902e8",
   "metadata": {},
   "source": [
    "# Accuracy using re-sampling, without using missing values and RFE   "
   ]
  },
  {
   "cell_type": "code",
   "execution_count": 121,
   "id": "62c0b3db",
   "metadata": {},
   "outputs": [
    {
     "data": {
      "image/png": "[encoded data removed]",
      "text/plain": [
       "<Figure size 432x288 with 1 Axes>"
      ]
     },
     "metadata": {
      "needs_background": "light"
     },
     "output_type": "display_data"
    }
   ],
   "source": [
    "from matplotlib import pyplot as plt    \n",
    "Names = ['LOGISTIC','KNN','DT','RANDOM FOREST']    \n",
    "Marks = [0.85,0.85,0.86,0.88]    \n",
    "plt.bar(Names,Marks,color = 'red')    \n",
    "plt.title('Result')    \n",
    "plt.xlabel('ALGORITHM')    \n",
    "plt.ylabel('ACCURACY')    \n",
    "plt.show()"
   ]
  },
  {
   "cell_type": "markdown",
   "id": "ddf29c7c",
   "metadata": {},
   "source": [
    "                        Figure-2"
   ]
  },
  {
   "cell_type": "markdown",
   "id": "2fd8a191",
   "metadata": {},
   "source": [
    "Here accuracy is increased a little in decision tree and random forest comparision to figure-1."
   ]
  },
  {
   "cell_type": "markdown",
   "id": "38258452",
   "metadata": {},
   "source": [
    "# Accuracy using re-sampling and missing values and without using RFE"
   ]
  },
  {
   "cell_type": "code",
   "execution_count": 124,
   "id": "5e0845f6",
   "metadata": {},
   "outputs": [
    {
     "data": {
      "image/png": "[encoded data removed]",
      "text/plain": [
       "<Figure size 432x288 with 1 Axes>"
      ]
     },
     "metadata": {
      "needs_background": "light"
     },
     "output_type": "display_data"
    }
   ],
   "source": [
    "from matplotlib import pyplot as plt    \n",
    "Names = ['LOGISTIC','KNN','DT','RANDOM FOREST']    \n",
    "Marks = [0.86,0.86,0.87,0.89]    \n",
    "plt.bar(Names,Marks,color = 'yellow')    \n",
    "plt.title('Result')    \n",
    "plt.xlabel('ALGORITHM')    \n",
    "plt.ylabel('ACCURACY')    \n",
    "plt.show()"
   ]
  },
  {
   "cell_type": "markdown",
   "id": "0163c273",
   "metadata": {},
   "source": [
    "                        Figure-3"
   ]
  },
  {
   "cell_type": "markdown",
   "id": "5815559e",
   "metadata": {},
   "source": [
    "Here accuracy is increased a little in KNN, decision tree and random forest comparision to figure-2."
   ]
  },
  {
   "cell_type": "markdown",
   "id": "ea52179a",
   "metadata": {},
   "source": [
    "# Final accuracy with missing values and using re-sampling and RFE"
   ]
  },
  {
   "cell_type": "code",
   "execution_count": 120,
   "id": "a2f89a6c",
   "metadata": {},
   "outputs": [
    {
     "data": {
      "image/png": "[encoded data removed]",
      "text/plain": [
       "<Figure size 432x288 with 1 Axes>"
      ]
     },
     "metadata": {
      "needs_background": "light"
     },
     "output_type": "display_data"
    }
   ],
   "source": [
    "from matplotlib import pyplot as plt    \n",
    "Names = ['LOGISTIC','KNN','DT','RANDOM FOREST']    \n",
    "Marks = [0.86,0.86,0.87,0.89]    \n",
    "plt.bar(Names,Marks,color = 'green')    \n",
    "plt.title('Result')    \n",
    "plt.xlabel('ALGORITHM')    \n",
    "plt.ylabel('ACCURACY')    \n",
    "plt.show()"
   ]
  },
  {
   "cell_type": "markdown",
   "id": "05f7b08c",
   "metadata": {},
   "source": [
    "                        Figure-4"
   ]
  },
  {
   "cell_type": "markdown",
   "id": "cdc16b85",
   "metadata": {},
   "source": [
    "Here accuracy is almost similar to figure-3, but the accuracy is increased in some decimals."
   ]
  },
  {
   "cell_type": "markdown",
   "id": "da836323",
   "metadata": {},
   "source": [
    "# Conclusion"
   ]
  },
  {
   "cell_type": "markdown",
   "id": "be7a71a7",
   "metadata": {},
   "source": [
    "Using missing values and re-sampling is pretty effective but RFE method is not that much effective."
   ]
  }
 ],
 "metadata": {
  "kernelspec": {
   "display_name": "Python 3 (ipykernel)",
   "language": "python",
   "name": "python3"
  },
  "language_info": {
   "codemirror_mode": {
    "name": "ipython",
    "version": 3
   },
   "file_extension": ".py",
   "mimetype": "text/x-python",
   "name": "python",
   "nbconvert_exporter": "python",
   "pygments_lexer": "ipython3",
   "version": "3.9.7"
  }
 },
 "nbformat": 4,
 "nbformat_minor": 5
}
